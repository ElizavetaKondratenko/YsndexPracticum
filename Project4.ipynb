{
 "cells": [
  {
   "cell_type": "markdown",
   "id": "09886d7e",
   "metadata": {
    "toc": true
   },
   "source": [
    "<h1>Table of Contents<span class=\"tocSkip\"></span></h1>\n",
    "<div class=\"toc\"><ul class=\"toc-item\"><li><span><a href=\"#Описание-проекта\" data-toc-modified-id=\"Описание-проекта-1\"><span class=\"toc-item-num\">1&nbsp;&nbsp;</span>Описание проекта</a></span></li><li><span><a href=\"#Обзор-данных\" data-toc-modified-id=\"Обзор-данных-2\"><span class=\"toc-item-num\">2&nbsp;&nbsp;</span>Обзор данных</a></span></li><li><span><a href=\"#Подготовка-данных\" data-toc-modified-id=\"Подготовка-данных-3\"><span class=\"toc-item-num\">3&nbsp;&nbsp;</span>Подготовка данных</a></span></li><li><span><a href=\"#Общий-анализ-данных\" data-toc-modified-id=\"Общий-анализ-данных-4\"><span class=\"toc-item-num\">4&nbsp;&nbsp;</span>Общий анализ данных</a></span></li><li><span><a href=\"#Проверка-гипотез\" data-toc-modified-id=\"Проверка-гипотез-5\"><span class=\"toc-item-num\">5&nbsp;&nbsp;</span>Проверка гипотез</a></span><ul class=\"toc-item\"><li><span><a href=\"#Сравнение-средней-выручки-по-двум-тарифам\" data-toc-modified-id=\"Сравнение-средней-выручки-по-двум-тарифам-5.1\"><span class=\"toc-item-num\">5.1&nbsp;&nbsp;</span>Сравнение средней выручки по двум тарифам</a></span></li><li><span><a href=\"#Сравнение-средней-выручки-по-регионам\" data-toc-modified-id=\"Сравнение-средней-выручки-по-регионам-5.2\"><span class=\"toc-item-num\">5.2&nbsp;&nbsp;</span>Сравнение средней выручки по регионам</a></span></li></ul></li><li><span><a href=\"#Общие-выводы\" data-toc-modified-id=\"Общие-выводы-6\"><span class=\"toc-item-num\">6&nbsp;&nbsp;</span>Общие выводы</a></span></li></ul></div>"
   ]
  },
  {
   "cell_type": "code",
   "execution_count": 1,
   "id": "2baa4962",
   "metadata": {},
   "outputs": [],
   "source": [
    "import pandas as pd\n",
    "from scipy import stats as st\n",
    "import numpy as np\n",
    "from matplotlib import pyplot as plt\n",
    "import math\n",
    "import warnings\n",
    "warnings.filterwarnings('ignore')"
   ]
  },
  {
   "cell_type": "markdown",
   "id": "e4e4282d",
   "metadata": {},
   "source": [
    "# Определение перспективного тарифа для телеком-компании"
   ]
  },
  {
   "cell_type": "markdown",
   "id": "594e90d0",
   "metadata": {},
   "source": [
    "## Описание проекта"
   ]
  },
  {
   "cell_type": "markdown",
   "id": "fe190234",
   "metadata": {},
   "source": [
    "В рамках данного кейса нам предстоит стать аналитиком федерального оператора сотовой связи «Мегалайн». Данная компания предлагает своим клиентам два тарифных плана: «Смарт» и «Ультра». \n",
    "\n",
    "**Заказчик** - коммерческий департамент оператора. Он решил провести корректировку рекламного бюджета, для чего требуется определить, какой тариф приносит больше денег. Для этого нам предстоит провести предварительный анализ тарифов на небольшой выборке клиентов. \n",
    "\n",
    "**Входные данные** - общая информация о 500 пользователях «Мегалайна»: кто они, откуда, каким тарифом пользуются, сколько звонков и сообщений каждый отправил за 2018 год. \n",
    "\n",
    "**Ход исследования**\n",
    "\n",
    "Данное исследование будет проходить в несколько этапов:\n",
    "1. Описание проекта\n",
    "2. Описание данных\n",
    "3. Подготовка данных\n",
    "    * Преобразование типов данных\n",
    "    * Выявление и исправление ошибок в данных\n",
    "    * Рассчет дополнительных параметров\n",
    "4. Общий анализ данных\n",
    "5. Проверка гипотез"
   ]
  },
  {
   "cell_type": "markdown",
   "id": "f21aaab0",
   "metadata": {},
   "source": [
    "Также вначале приведем краткое описание тарифов:\n",
    "**Тариф «Смарт»**\n",
    "* Ежемесячная плата: 550 рублей\n",
    "* Включено 500 минут разговора, 50 сообщений и 15 Гб интернет-трафика\n",
    "* Стоимость услуг сверх тарифного пакета:\n",
    "    * минута разговора: 3 рубля\n",
    "    * сообщение: 3 рубля\n",
    "    * 1 Гб интернет-трафика: 200 рублей\n",
    "\n",
    "**Тариф «Ультра»**\n",
    "* Ежемесячная плата: 1950 рублей\n",
    "* Включено 3000 минут разговора, 1000 сообщений и 30 Гб интернет-трафика\n",
    "* Стоимость услуг сверх тарифного пакета:\n",
    "    * минута разговора: 1 рубль\n",
    "    * сообщение: 1 рубль\n",
    "    * 1 Гб интернет-трафика: 150 рублей"
   ]
  },
  {
   "cell_type": "markdown",
   "id": "72d7097b",
   "metadata": {},
   "source": [
    "Таблица users состоит из 8 характеристик, раскрывающих информацию о пользователях:\n",
    "* `user_id` — уникальный идентификатор пользователя\n",
    "* `first_name` — имя пользователя\n",
    "* `last_name` — фамилия пользователя\n",
    "* `age` — возраст пользователя (годы)\n",
    "* `reg_date` — дата подключения тарифа (день, месяц, год)\n",
    "* `churn_date` — дата прекращения пользования тарифом (если значение пропущено, то тариф ещё действовал на момент выгрузки данных)\n",
    "* `city` — город проживания пользователя\n",
    "* `tariff` — название тарифного плана\n",
    "\n",
    "Перейдем к следующей таблице calls, в которой содержится информация о звонках. Всего она имеет 4 столбца:\n",
    "* `id` — уникальный номер звонка\n",
    "* `call_date` — дата звонка\n",
    "* `duration` — длительность звонка в минутах\n",
    "* `user_id` — идентификатор пользователя, сделавшего звонок\n",
    "\n",
    "Третья таблица - messages с информацией о сообщениях, содержит только 3 столбца:\n",
    "* `id` — уникальный номер сообщения\n",
    "* `message_date` — дата сообщения\n",
    "* `user_id` — идентификатор пользователя, отправившего сообщение\n",
    "\n",
    "Следующая таблица internet рассказывает об интернет-сессиях абонентов и включает 4 характеристики:\n",
    "* `id` — уникальный номер сессии\n",
    "* `mb_used` — объём потраченного за сессию интернет-трафика (в мегабайтах)\n",
    "* `session_date` — дата интернет-сессии\n",
    "* `user_id` — идентификатор пользователя\n",
    "\n",
    "Наконец, последняя таблица tariffs содержит общую информацию о тарифах. Она включает в себя 8 столбцов:\n",
    "* `tariff_name` — название тарифа\n",
    "* `rub_monthly_fee` — ежемесячная абонентская плата в рублях\n",
    "* `minutes_included` — количество минут разговора в месяц, включённых в абонентскую плату\n",
    "* `messages_included` — количество сообщений в месяц, включённых в абонентскую плату\n",
    "* `mb_per_month_included` — объём интернет-трафика, включённого в абонентскую плату (в мегабайтах)\n",
    "* `rub_per_minute` — стоимость минуты разговора сверх тарифного пакета (например, если в тарифе 100 минут разговора в месяц, то со 101 минуты будет взиматься плата)\n",
    "* `rub_per_message` — стоимость отправки сообщения сверх тарифного пакета\n",
    "* `rub_per_gb` — стоимость дополнительного гигабайта интернет-трафика сверх тарифного пакета (1 гигабайт = 1024 мегабайта)"
   ]
  },
  {
   "cell_type": "markdown",
   "id": "b7a0be06",
   "metadata": {},
   "source": [
    "## Обзор данных"
   ]
  },
  {
   "cell_type": "markdown",
   "id": "72e70653",
   "metadata": {},
   "source": [
    "Как обычно, начнем с загрузки необходимых данных и выведения основной информации по каждому набору данных."
   ]
  },
  {
   "cell_type": "code",
   "execution_count": 2,
   "id": "6f0930ae",
   "metadata": {},
   "outputs": [],
   "source": [
    "try:\n",
    "    data_users = pd.read_csv('users.csv')\n",
    "    data_calls = pd.read_csv('calls.csv')\n",
    "    data_messages = pd.read_csv('messages.csv')\n",
    "    data_internet = pd.read_csv('internet.csv')\n",
    "    data_tariffs = pd.read_csv('tariffs.csv')\n",
    "except:\n",
    "    data_users = pd.read_csv('/datasets/users.csv')\n",
    "    data_calls = pd.read_csv('/datasets/calls.csv')\n",
    "    data_messages = pd.read_csv('/datasets/messages.csv')\n",
    "    data_internet = pd.read_csv('/datasets/internet.csv')\n",
    "    data_tariffs = pd.read_csv('/datasets/tariffs.csv')"
   ]
  },
  {
   "cell_type": "code",
   "execution_count": 3,
   "id": "5bb7cc4b",
   "metadata": {},
   "outputs": [
    {
     "name": "stdout",
     "output_type": "stream",
     "text": [
      "Инфографика по данным из таблицы data_users\n",
      "<class 'pandas.core.frame.DataFrame'>\n",
      "RangeIndex: 500 entries, 0 to 499\n",
      "Data columns (total 8 columns):\n",
      " #   Column      Non-Null Count  Dtype \n",
      "---  ------      --------------  ----- \n",
      " 0   user_id     500 non-null    int64 \n",
      " 1   age         500 non-null    int64 \n",
      " 2   churn_date  38 non-null     object\n",
      " 3   city        500 non-null    object\n",
      " 4   first_name  500 non-null    object\n",
      " 5   last_name   500 non-null    object\n",
      " 6   reg_date    500 non-null    object\n",
      " 7   tariff      500 non-null    object\n",
      "dtypes: int64(2), object(6)\n",
      "memory usage: 31.4+ KB\n"
     ]
    },
    {
     "data": {
      "text/plain": [
       "None"
      ]
     },
     "metadata": {},
     "output_type": "display_data"
    },
    {
     "data": {
      "text/html": [
       "<div>\n",
       "<style scoped>\n",
       "    .dataframe tbody tr th:only-of-type {\n",
       "        vertical-align: middle;\n",
       "    }\n",
       "\n",
       "    .dataframe tbody tr th {\n",
       "        vertical-align: top;\n",
       "    }\n",
       "\n",
       "    .dataframe thead th {\n",
       "        text-align: right;\n",
       "    }\n",
       "</style>\n",
       "<table border=\"1\" class=\"dataframe\">\n",
       "  <thead>\n",
       "    <tr style=\"text-align: right;\">\n",
       "      <th></th>\n",
       "      <th>user_id</th>\n",
       "      <th>age</th>\n",
       "      <th>churn_date</th>\n",
       "      <th>city</th>\n",
       "      <th>first_name</th>\n",
       "      <th>last_name</th>\n",
       "      <th>reg_date</th>\n",
       "      <th>tariff</th>\n",
       "    </tr>\n",
       "  </thead>\n",
       "  <tbody>\n",
       "    <tr>\n",
       "      <th>0</th>\n",
       "      <td>1000</td>\n",
       "      <td>52</td>\n",
       "      <td>NaN</td>\n",
       "      <td>Краснодар</td>\n",
       "      <td>Рафаил</td>\n",
       "      <td>Верещагин</td>\n",
       "      <td>2018-05-25</td>\n",
       "      <td>ultra</td>\n",
       "    </tr>\n",
       "    <tr>\n",
       "      <th>1</th>\n",
       "      <td>1001</td>\n",
       "      <td>41</td>\n",
       "      <td>NaN</td>\n",
       "      <td>Москва</td>\n",
       "      <td>Иван</td>\n",
       "      <td>Ежов</td>\n",
       "      <td>2018-11-01</td>\n",
       "      <td>smart</td>\n",
       "    </tr>\n",
       "    <tr>\n",
       "      <th>2</th>\n",
       "      <td>1002</td>\n",
       "      <td>59</td>\n",
       "      <td>NaN</td>\n",
       "      <td>Стерлитамак</td>\n",
       "      <td>Евгений</td>\n",
       "      <td>Абрамович</td>\n",
       "      <td>2018-06-17</td>\n",
       "      <td>smart</td>\n",
       "    </tr>\n",
       "    <tr>\n",
       "      <th>3</th>\n",
       "      <td>1003</td>\n",
       "      <td>23</td>\n",
       "      <td>NaN</td>\n",
       "      <td>Москва</td>\n",
       "      <td>Белла</td>\n",
       "      <td>Белякова</td>\n",
       "      <td>2018-08-17</td>\n",
       "      <td>ultra</td>\n",
       "    </tr>\n",
       "    <tr>\n",
       "      <th>4</th>\n",
       "      <td>1004</td>\n",
       "      <td>68</td>\n",
       "      <td>NaN</td>\n",
       "      <td>Новокузнецк</td>\n",
       "      <td>Татьяна</td>\n",
       "      <td>Авдеенко</td>\n",
       "      <td>2018-05-14</td>\n",
       "      <td>ultra</td>\n",
       "    </tr>\n",
       "  </tbody>\n",
       "</table>\n",
       "</div>"
      ],
      "text/plain": [
       "   user_id  age churn_date         city first_name  last_name    reg_date  \\\n",
       "0     1000   52        NaN    Краснодар     Рафаил  Верещагин  2018-05-25   \n",
       "1     1001   41        NaN       Москва       Иван       Ежов  2018-11-01   \n",
       "2     1002   59        NaN  Стерлитамак    Евгений  Абрамович  2018-06-17   \n",
       "3     1003   23        NaN       Москва      Белла   Белякова  2018-08-17   \n",
       "4     1004   68        NaN  Новокузнецк    Татьяна   Авдеенко  2018-05-14   \n",
       "\n",
       "  tariff  \n",
       "0  ultra  \n",
       "1  smart  \n",
       "2  smart  \n",
       "3  ultra  \n",
       "4  ultra  "
      ]
     },
     "metadata": {},
     "output_type": "display_data"
    },
    {
     "name": "stdout",
     "output_type": "stream",
     "text": [
      "Инфографика по данным из таблицы data_calls\n",
      "<class 'pandas.core.frame.DataFrame'>\n",
      "RangeIndex: 202607 entries, 0 to 202606\n",
      "Data columns (total 4 columns):\n",
      " #   Column     Non-Null Count   Dtype  \n",
      "---  ------     --------------   -----  \n",
      " 0   id         202607 non-null  object \n",
      " 1   call_date  202607 non-null  object \n",
      " 2   duration   202607 non-null  float64\n",
      " 3   user_id    202607 non-null  int64  \n",
      "dtypes: float64(1), int64(1), object(2)\n",
      "memory usage: 6.2+ MB\n"
     ]
    },
    {
     "data": {
      "text/plain": [
       "None"
      ]
     },
     "metadata": {},
     "output_type": "display_data"
    },
    {
     "data": {
      "text/html": [
       "<div>\n",
       "<style scoped>\n",
       "    .dataframe tbody tr th:only-of-type {\n",
       "        vertical-align: middle;\n",
       "    }\n",
       "\n",
       "    .dataframe tbody tr th {\n",
       "        vertical-align: top;\n",
       "    }\n",
       "\n",
       "    .dataframe thead th {\n",
       "        text-align: right;\n",
       "    }\n",
       "</style>\n",
       "<table border=\"1\" class=\"dataframe\">\n",
       "  <thead>\n",
       "    <tr style=\"text-align: right;\">\n",
       "      <th></th>\n",
       "      <th>id</th>\n",
       "      <th>call_date</th>\n",
       "      <th>duration</th>\n",
       "      <th>user_id</th>\n",
       "    </tr>\n",
       "  </thead>\n",
       "  <tbody>\n",
       "    <tr>\n",
       "      <th>0</th>\n",
       "      <td>1000_0</td>\n",
       "      <td>2018-07-25</td>\n",
       "      <td>0.00</td>\n",
       "      <td>1000</td>\n",
       "    </tr>\n",
       "    <tr>\n",
       "      <th>1</th>\n",
       "      <td>1000_1</td>\n",
       "      <td>2018-08-17</td>\n",
       "      <td>0.00</td>\n",
       "      <td>1000</td>\n",
       "    </tr>\n",
       "    <tr>\n",
       "      <th>2</th>\n",
       "      <td>1000_2</td>\n",
       "      <td>2018-06-11</td>\n",
       "      <td>2.85</td>\n",
       "      <td>1000</td>\n",
       "    </tr>\n",
       "    <tr>\n",
       "      <th>3</th>\n",
       "      <td>1000_3</td>\n",
       "      <td>2018-09-21</td>\n",
       "      <td>13.80</td>\n",
       "      <td>1000</td>\n",
       "    </tr>\n",
       "    <tr>\n",
       "      <th>4</th>\n",
       "      <td>1000_4</td>\n",
       "      <td>2018-12-15</td>\n",
       "      <td>5.18</td>\n",
       "      <td>1000</td>\n",
       "    </tr>\n",
       "  </tbody>\n",
       "</table>\n",
       "</div>"
      ],
      "text/plain": [
       "       id   call_date  duration  user_id\n",
       "0  1000_0  2018-07-25      0.00     1000\n",
       "1  1000_1  2018-08-17      0.00     1000\n",
       "2  1000_2  2018-06-11      2.85     1000\n",
       "3  1000_3  2018-09-21     13.80     1000\n",
       "4  1000_4  2018-12-15      5.18     1000"
      ]
     },
     "metadata": {},
     "output_type": "display_data"
    },
    {
     "name": "stdout",
     "output_type": "stream",
     "text": [
      "Инфографика по данным из таблицы data_messages\n",
      "<class 'pandas.core.frame.DataFrame'>\n",
      "RangeIndex: 123036 entries, 0 to 123035\n",
      "Data columns (total 3 columns):\n",
      " #   Column        Non-Null Count   Dtype \n",
      "---  ------        --------------   ----- \n",
      " 0   id            123036 non-null  object\n",
      " 1   message_date  123036 non-null  object\n",
      " 2   user_id       123036 non-null  int64 \n",
      "dtypes: int64(1), object(2)\n",
      "memory usage: 2.8+ MB\n"
     ]
    },
    {
     "data": {
      "text/plain": [
       "None"
      ]
     },
     "metadata": {},
     "output_type": "display_data"
    },
    {
     "data": {
      "text/html": [
       "<div>\n",
       "<style scoped>\n",
       "    .dataframe tbody tr th:only-of-type {\n",
       "        vertical-align: middle;\n",
       "    }\n",
       "\n",
       "    .dataframe tbody tr th {\n",
       "        vertical-align: top;\n",
       "    }\n",
       "\n",
       "    .dataframe thead th {\n",
       "        text-align: right;\n",
       "    }\n",
       "</style>\n",
       "<table border=\"1\" class=\"dataframe\">\n",
       "  <thead>\n",
       "    <tr style=\"text-align: right;\">\n",
       "      <th></th>\n",
       "      <th>id</th>\n",
       "      <th>message_date</th>\n",
       "      <th>user_id</th>\n",
       "    </tr>\n",
       "  </thead>\n",
       "  <tbody>\n",
       "    <tr>\n",
       "      <th>0</th>\n",
       "      <td>1000_0</td>\n",
       "      <td>2018-06-27</td>\n",
       "      <td>1000</td>\n",
       "    </tr>\n",
       "    <tr>\n",
       "      <th>1</th>\n",
       "      <td>1000_1</td>\n",
       "      <td>2018-10-08</td>\n",
       "      <td>1000</td>\n",
       "    </tr>\n",
       "    <tr>\n",
       "      <th>2</th>\n",
       "      <td>1000_2</td>\n",
       "      <td>2018-08-04</td>\n",
       "      <td>1000</td>\n",
       "    </tr>\n",
       "    <tr>\n",
       "      <th>3</th>\n",
       "      <td>1000_3</td>\n",
       "      <td>2018-06-16</td>\n",
       "      <td>1000</td>\n",
       "    </tr>\n",
       "    <tr>\n",
       "      <th>4</th>\n",
       "      <td>1000_4</td>\n",
       "      <td>2018-12-05</td>\n",
       "      <td>1000</td>\n",
       "    </tr>\n",
       "  </tbody>\n",
       "</table>\n",
       "</div>"
      ],
      "text/plain": [
       "       id message_date  user_id\n",
       "0  1000_0   2018-06-27     1000\n",
       "1  1000_1   2018-10-08     1000\n",
       "2  1000_2   2018-08-04     1000\n",
       "3  1000_3   2018-06-16     1000\n",
       "4  1000_4   2018-12-05     1000"
      ]
     },
     "metadata": {},
     "output_type": "display_data"
    },
    {
     "name": "stdout",
     "output_type": "stream",
     "text": [
      "Инфографика по данным из таблицы data_internet\n",
      "<class 'pandas.core.frame.DataFrame'>\n",
      "RangeIndex: 149396 entries, 0 to 149395\n",
      "Data columns (total 5 columns):\n",
      " #   Column        Non-Null Count   Dtype  \n",
      "---  ------        --------------   -----  \n",
      " 0   Unnamed: 0    149396 non-null  int64  \n",
      " 1   id            149396 non-null  object \n",
      " 2   mb_used       149396 non-null  float64\n",
      " 3   session_date  149396 non-null  object \n",
      " 4   user_id       149396 non-null  int64  \n",
      "dtypes: float64(1), int64(2), object(2)\n",
      "memory usage: 5.7+ MB\n"
     ]
    },
    {
     "data": {
      "text/plain": [
       "None"
      ]
     },
     "metadata": {},
     "output_type": "display_data"
    },
    {
     "data": {
      "text/html": [
       "<div>\n",
       "<style scoped>\n",
       "    .dataframe tbody tr th:only-of-type {\n",
       "        vertical-align: middle;\n",
       "    }\n",
       "\n",
       "    .dataframe tbody tr th {\n",
       "        vertical-align: top;\n",
       "    }\n",
       "\n",
       "    .dataframe thead th {\n",
       "        text-align: right;\n",
       "    }\n",
       "</style>\n",
       "<table border=\"1\" class=\"dataframe\">\n",
       "  <thead>\n",
       "    <tr style=\"text-align: right;\">\n",
       "      <th></th>\n",
       "      <th>Unnamed: 0</th>\n",
       "      <th>id</th>\n",
       "      <th>mb_used</th>\n",
       "      <th>session_date</th>\n",
       "      <th>user_id</th>\n",
       "    </tr>\n",
       "  </thead>\n",
       "  <tbody>\n",
       "    <tr>\n",
       "      <th>0</th>\n",
       "      <td>0</td>\n",
       "      <td>1000_0</td>\n",
       "      <td>112.95</td>\n",
       "      <td>2018-11-25</td>\n",
       "      <td>1000</td>\n",
       "    </tr>\n",
       "    <tr>\n",
       "      <th>1</th>\n",
       "      <td>1</td>\n",
       "      <td>1000_1</td>\n",
       "      <td>1052.81</td>\n",
       "      <td>2018-09-07</td>\n",
       "      <td>1000</td>\n",
       "    </tr>\n",
       "    <tr>\n",
       "      <th>2</th>\n",
       "      <td>2</td>\n",
       "      <td>1000_2</td>\n",
       "      <td>1197.26</td>\n",
       "      <td>2018-06-25</td>\n",
       "      <td>1000</td>\n",
       "    </tr>\n",
       "    <tr>\n",
       "      <th>3</th>\n",
       "      <td>3</td>\n",
       "      <td>1000_3</td>\n",
       "      <td>550.27</td>\n",
       "      <td>2018-08-22</td>\n",
       "      <td>1000</td>\n",
       "    </tr>\n",
       "    <tr>\n",
       "      <th>4</th>\n",
       "      <td>4</td>\n",
       "      <td>1000_4</td>\n",
       "      <td>302.56</td>\n",
       "      <td>2018-09-24</td>\n",
       "      <td>1000</td>\n",
       "    </tr>\n",
       "  </tbody>\n",
       "</table>\n",
       "</div>"
      ],
      "text/plain": [
       "   Unnamed: 0      id  mb_used session_date  user_id\n",
       "0           0  1000_0   112.95   2018-11-25     1000\n",
       "1           1  1000_1  1052.81   2018-09-07     1000\n",
       "2           2  1000_2  1197.26   2018-06-25     1000\n",
       "3           3  1000_3   550.27   2018-08-22     1000\n",
       "4           4  1000_4   302.56   2018-09-24     1000"
      ]
     },
     "metadata": {},
     "output_type": "display_data"
    },
    {
     "name": "stdout",
     "output_type": "stream",
     "text": [
      "Инфографика по данным из таблицы data_tariffs\n",
      "<class 'pandas.core.frame.DataFrame'>\n",
      "RangeIndex: 2 entries, 0 to 1\n",
      "Data columns (total 8 columns):\n",
      " #   Column                 Non-Null Count  Dtype \n",
      "---  ------                 --------------  ----- \n",
      " 0   messages_included      2 non-null      int64 \n",
      " 1   mb_per_month_included  2 non-null      int64 \n",
      " 2   minutes_included       2 non-null      int64 \n",
      " 3   rub_monthly_fee        2 non-null      int64 \n",
      " 4   rub_per_gb             2 non-null      int64 \n",
      " 5   rub_per_message        2 non-null      int64 \n",
      " 6   rub_per_minute         2 non-null      int64 \n",
      " 7   tariff_name            2 non-null      object\n",
      "dtypes: int64(7), object(1)\n",
      "memory usage: 256.0+ bytes\n"
     ]
    },
    {
     "data": {
      "text/plain": [
       "None"
      ]
     },
     "metadata": {},
     "output_type": "display_data"
    },
    {
     "data": {
      "text/html": [
       "<div>\n",
       "<style scoped>\n",
       "    .dataframe tbody tr th:only-of-type {\n",
       "        vertical-align: middle;\n",
       "    }\n",
       "\n",
       "    .dataframe tbody tr th {\n",
       "        vertical-align: top;\n",
       "    }\n",
       "\n",
       "    .dataframe thead th {\n",
       "        text-align: right;\n",
       "    }\n",
       "</style>\n",
       "<table border=\"1\" class=\"dataframe\">\n",
       "  <thead>\n",
       "    <tr style=\"text-align: right;\">\n",
       "      <th></th>\n",
       "      <th>messages_included</th>\n",
       "      <th>mb_per_month_included</th>\n",
       "      <th>minutes_included</th>\n",
       "      <th>rub_monthly_fee</th>\n",
       "      <th>rub_per_gb</th>\n",
       "      <th>rub_per_message</th>\n",
       "      <th>rub_per_minute</th>\n",
       "      <th>tariff_name</th>\n",
       "    </tr>\n",
       "  </thead>\n",
       "  <tbody>\n",
       "    <tr>\n",
       "      <th>0</th>\n",
       "      <td>50</td>\n",
       "      <td>15360</td>\n",
       "      <td>500</td>\n",
       "      <td>550</td>\n",
       "      <td>200</td>\n",
       "      <td>3</td>\n",
       "      <td>3</td>\n",
       "      <td>smart</td>\n",
       "    </tr>\n",
       "    <tr>\n",
       "      <th>1</th>\n",
       "      <td>1000</td>\n",
       "      <td>30720</td>\n",
       "      <td>3000</td>\n",
       "      <td>1950</td>\n",
       "      <td>150</td>\n",
       "      <td>1</td>\n",
       "      <td>1</td>\n",
       "      <td>ultra</td>\n",
       "    </tr>\n",
       "  </tbody>\n",
       "</table>\n",
       "</div>"
      ],
      "text/plain": [
       "   messages_included  mb_per_month_included  minutes_included  \\\n",
       "0                 50                  15360               500   \n",
       "1               1000                  30720              3000   \n",
       "\n",
       "   rub_monthly_fee  rub_per_gb  rub_per_message  rub_per_minute tariff_name  \n",
       "0              550         200                3               3       smart  \n",
       "1             1950         150                1               1       ultra  "
      ]
     },
     "metadata": {},
     "output_type": "display_data"
    }
   ],
   "source": [
    "count = 0\n",
    "for data in [data_users, data_calls, data_messages, data_internet, data_tariffs]:\n",
    "    name = ['data_users', 'data_calls', 'data_messages', 'data_internet', 'data_tariffs']\n",
    "    print(f'Инфографика по данным из таблицы {name[count]}')\n",
    "    display(data.info())\n",
    "    display(data.head())\n",
    "    count += 1"
   ]
  },
  {
   "cell_type": "markdown",
   "id": "0a68057c",
   "metadata": {},
   "source": [
    "Что можно сказать об имеющихся данных? Прежде всего, в глаза бросается тот факт, что в исходных данных практически отсутсвуют пропуски. Исключением является столбец `churn_date` в таблице **users**, что довольно логично, если исходить из описания столбца - пропуски у тех пользователей, которые все еще пользуются тарифом. Согласно данному столбцу, только 38 абонентов из 500 присутствующих в выборке отказались от услуг в анализируемый период. \n",
    "\n",
    "По предварительному анализу сложно сказать о наличии или отсутсвии анамалий и ошибок, а значит этому стоит уделить внимание при дальнейшей работе. \n",
    "\n",
    "Из наиболее важного также хотелось бы отметить наличие некоторых столбцов с неоптимальным типом, а именно: `reg_date`, `call_date`, `message_date` и `session_date`. Все эти переменные будет необходимо привести к типу **datetime** для удобства дальнейшего использования."
   ]
  },
  {
   "cell_type": "markdown",
   "id": "8a02b58a",
   "metadata": {},
   "source": [
    "## Подготовка данных"
   ]
  },
  {
   "cell_type": "markdown",
   "id": "20a8d5e1",
   "metadata": {},
   "source": [
    "Переходим к следующему этапу работы над данным кейсом - подготовкой данных. На данном этапе нам необходимо выполнить несколько важных действий, которые значительно упрощат дальнейший анализ. Прежде всего, необходимо, как уже упоминалось ранее, привести часть переменных к нужному типу. Также стоит проверить данные на наличие потенциальных аномалий, которые могут негативно повлиять на будущие результаты. Наконец, для дальнейшего анализа нам будет необходимо рассчитать несколько дополнительных переменных. "
   ]
  },
  {
   "cell_type": "markdown",
   "id": "e2b9b907",
   "metadata": {},
   "source": [
    "Начнем с преобразования типа некоторых характеристик. К ним относятся переменные, отвечающие за даты: `reg_date`, `call_date`, `message_date` и `session_date`. Все они в исходном наборе обладали типом **object**, который не совсем подходит для подобных характеристик. Заменит данный тип на **datetime**."
   ]
  },
  {
   "cell_type": "code",
   "execution_count": 4,
   "id": "f37f47fb",
   "metadata": {},
   "outputs": [],
   "source": [
    "for data in [data_users['reg_date'], data_calls['call_date'], data_messages['message_date'], data_internet['session_date']]:\n",
    "    data = pd.to_datetime(data, format = '%Y-%m-%d')"
   ]
  },
  {
   "cell_type": "markdown",
   "id": "af325f7e",
   "metadata": {},
   "source": [
    "Также нам было сказано, что «Мегалайн» всегда округляет секунды до минут, а мегабайты — до гигабайт. Каждый звонок округляется отдельно: даже если он длился всего 1 секунду, будет засчитан как 1 минута.\n",
    "Для веб-трафика отдельные сессии не считаются. Вместо этого общая сумма за месяц округляется в бо́льшую сторону. Если абонент использует 1025 мегабайт в этом месяце, с него возьмут плату за 2 гигабайта.\n",
    "\n",
    "Значит, нам необходимо провести два округления. Первое, для **длительности звонков**, должно быть проведено сейчас - тогда сумма по месяцам будет посчитана правильно. Второе округление для **объема веб-трафика** будет произведено позднее, после рассчета суммы за месяц. \n",
    "\n",
    "Итак, округлим секунды до минут для каждого звонка."
   ]
  },
  {
   "cell_type": "code",
   "execution_count": 5,
   "id": "a7de05da",
   "metadata": {},
   "outputs": [],
   "source": [
    "data_calls['duration'] = np.ceil(data_calls['duration'])"
   ]
  },
  {
   "cell_type": "markdown",
   "id": "8c362ad5",
   "metadata": {},
   "source": [
    "Теперь перейдем к этапу анализа и выявления аномалий и ошибок в данных. Проверим несколько предположений относительно того, где могли возникнуть ошибки. \n",
    "\n",
    "Проверим несколько предпосылок:\n",
    "* Возраст всех индивидов в пределах разумного\n",
    "* Нет индивидов, у которых дата регистрации случилась позже даты отказа от пользования услугами\n",
    "* Нет задвоения индивидов - разные id с одинаковыми полными именами\n",
    "* Длительность звонков в разумных пределах"
   ]
  },
  {
   "cell_type": "code",
   "execution_count": 6,
   "id": "654a93df",
   "metadata": {
    "scrolled": true
   },
   "outputs": [
    {
     "data": {
      "image/png": "[encoded data removed]",
      "text/plain": [
       "<Figure size 432x288 with 1 Axes>"
      ]
     },
     "metadata": {
      "needs_background": "light"
     },
     "output_type": "display_data"
    },
    {
     "name": "stdout",
     "output_type": "stream",
     "text": [
      "18\n",
      "75\n"
     ]
    }
   ],
   "source": [
    "data_users['age'].hist()\n",
    "plt.show()\n",
    "print(data_users['age'].min())\n",
    "print(data_users['age'].max())"
   ]
  },
  {
   "cell_type": "code",
   "execution_count": 7,
   "id": "fcb85bee",
   "metadata": {},
   "outputs": [
    {
     "data": {
      "text/html": [
       "<div>\n",
       "<style scoped>\n",
       "    .dataframe tbody tr th:only-of-type {\n",
       "        vertical-align: middle;\n",
       "    }\n",
       "\n",
       "    .dataframe tbody tr th {\n",
       "        vertical-align: top;\n",
       "    }\n",
       "\n",
       "    .dataframe thead th {\n",
       "        text-align: right;\n",
       "    }\n",
       "</style>\n",
       "<table border=\"1\" class=\"dataframe\">\n",
       "  <thead>\n",
       "    <tr style=\"text-align: right;\">\n",
       "      <th></th>\n",
       "      <th>user_id</th>\n",
       "      <th>age</th>\n",
       "      <th>churn_date</th>\n",
       "      <th>city</th>\n",
       "      <th>first_name</th>\n",
       "      <th>last_name</th>\n",
       "      <th>reg_date</th>\n",
       "      <th>tariff</th>\n",
       "    </tr>\n",
       "  </thead>\n",
       "  <tbody>\n",
       "  </tbody>\n",
       "</table>\n",
       "</div>"
      ],
      "text/plain": [
       "Empty DataFrame\n",
       "Columns: [user_id, age, churn_date, city, first_name, last_name, reg_date, tariff]\n",
       "Index: []"
      ]
     },
     "execution_count": 7,
     "metadata": {},
     "output_type": "execute_result"
    }
   ],
   "source": [
    "data_users.query('churn_date < reg_date')"
   ]
  },
  {
   "cell_type": "code",
   "execution_count": 8,
   "id": "9dc83ff3",
   "metadata": {},
   "outputs": [
    {
     "data": {
      "text/plain": [
       "500"
      ]
     },
     "execution_count": 8,
     "metadata": {},
     "output_type": "execute_result"
    }
   ],
   "source": [
    "data_users['full_name'] = data_users['first_name'] + data_users['last_name']\n",
    "len(data_users['full_name'].unique())"
   ]
  },
  {
   "cell_type": "code",
   "execution_count": 9,
   "id": "de764c9b",
   "metadata": {},
   "outputs": [
    {
     "data": {
      "image/png": "[encoded data removed]",
      "text/plain": [
       "<Figure size 432x288 with 1 Axes>"
      ]
     },
     "metadata": {
      "needs_background": "light"
     },
     "output_type": "display_data"
    },
    {
     "name": "stdout",
     "output_type": "stream",
     "text": [
      "0.0\n",
      "38.0\n"
     ]
    }
   ],
   "source": [
    "data_calls['duration'].hist()\n",
    "plt.show()\n",
    "print(data_calls['duration'].min())\n",
    "print(data_calls['duration'].max())"
   ]
  },
  {
   "cell_type": "markdown",
   "id": "8826c4a2",
   "metadata": {},
   "source": [
    "Как можно заметить по полученным результатам, все введенные нами предпосылки были выполнены в реальных данных. В таком случае, можно предположить, что ошибок и аномалий в исходной выборке нет."
   ]
  },
  {
   "cell_type": "markdown",
   "id": "af2abf28",
   "metadata": {},
   "source": [
    "Наконец, перейдем к рассчету дополнительных переменных. Нам необходимо рассчитать следующие характеристики для каждого пользователя:\n",
    "* количество сделанных звонков и израсходованных минут разговора по месяцам;\n",
    "* количество отправленных сообщений по месяцам;\n",
    "* объем израсходованного интернет-трафика по месяцам;\n",
    "* помесячную выручку с каждого пользователя.\n",
    "\n",
    "Ддя рассчета последнего параметра вычтем бесплатный лимит из суммарного количества звонков, сообщений и интернет-трафика, после чего умножим остаток на значение из тарифного плана и прибавим абонентскую плату, соответствующую тарифному плану.\n",
    "\n",
    "Произведем необходимые рассчеты. Для этого сначала нам необходимо вычленить из даты месяц, когда был совершен звонок или смс или произведена интернет-сессия. "
   ]
  },
  {
   "cell_type": "code",
   "execution_count": 10,
   "id": "be3452c8",
   "metadata": {},
   "outputs": [],
   "source": [
    "count = 0\n",
    "for data in [data_users, data_calls, data_messages, data_internet]:\n",
    "    name = ['reg_date', 'call_date', 'message_date', 'session_date']\n",
    "    data['month'] = pd.DatetimeIndex(data[name[count]]).month\n",
    "    count += 1    "
   ]
  },
  {
   "cell_type": "markdown",
   "id": "02818205",
   "metadata": {},
   "source": [
    "Теперь посчитаем, **сколько звонков** совершил каждый из пользователей в месяц и какова **их суммарная длительность*. "
   ]
  },
  {
   "cell_type": "code",
   "execution_count": 11,
   "id": "8097ccbf",
   "metadata": {},
   "outputs": [
    {
     "data": {
      "text/html": [
       "<div>\n",
       "<style scoped>\n",
       "    .dataframe tbody tr th:only-of-type {\n",
       "        vertical-align: middle;\n",
       "    }\n",
       "\n",
       "    .dataframe tbody tr th {\n",
       "        vertical-align: top;\n",
       "    }\n",
       "\n",
       "    .dataframe thead tr th {\n",
       "        text-align: left;\n",
       "    }\n",
       "\n",
       "    .dataframe thead tr:last-of-type th {\n",
       "        text-align: right;\n",
       "    }\n",
       "</style>\n",
       "<table border=\"1\" class=\"dataframe\">\n",
       "  <thead>\n",
       "    <tr>\n",
       "      <th></th>\n",
       "      <th></th>\n",
       "      <th>count</th>\n",
       "      <th>sum</th>\n",
       "    </tr>\n",
       "    <tr>\n",
       "      <th></th>\n",
       "      <th></th>\n",
       "      <th>duration</th>\n",
       "      <th>duration</th>\n",
       "    </tr>\n",
       "    <tr>\n",
       "      <th>user_id</th>\n",
       "      <th>month</th>\n",
       "      <th></th>\n",
       "      <th></th>\n",
       "    </tr>\n",
       "  </thead>\n",
       "  <tbody>\n",
       "    <tr>\n",
       "      <th rowspan=\"5\" valign=\"top\">1000</th>\n",
       "      <th>5</th>\n",
       "      <td>22</td>\n",
       "      <td>159.0</td>\n",
       "    </tr>\n",
       "    <tr>\n",
       "      <th>6</th>\n",
       "      <td>43</td>\n",
       "      <td>172.0</td>\n",
       "    </tr>\n",
       "    <tr>\n",
       "      <th>7</th>\n",
       "      <td>47</td>\n",
       "      <td>340.0</td>\n",
       "    </tr>\n",
       "    <tr>\n",
       "      <th>8</th>\n",
       "      <td>52</td>\n",
       "      <td>408.0</td>\n",
       "    </tr>\n",
       "    <tr>\n",
       "      <th>9</th>\n",
       "      <td>58</td>\n",
       "      <td>466.0</td>\n",
       "    </tr>\n",
       "    <tr>\n",
       "      <th>...</th>\n",
       "      <th>...</th>\n",
       "      <td>...</td>\n",
       "      <td>...</td>\n",
       "    </tr>\n",
       "    <tr>\n",
       "      <th>1498</th>\n",
       "      <th>10</th>\n",
       "      <td>41</td>\n",
       "      <td>247.0</td>\n",
       "    </tr>\n",
       "    <tr>\n",
       "      <th rowspan=\"4\" valign=\"top\">1499</th>\n",
       "      <th>9</th>\n",
       "      <td>9</td>\n",
       "      <td>70.0</td>\n",
       "    </tr>\n",
       "    <tr>\n",
       "      <th>10</th>\n",
       "      <td>68</td>\n",
       "      <td>449.0</td>\n",
       "    </tr>\n",
       "    <tr>\n",
       "      <th>11</th>\n",
       "      <td>74</td>\n",
       "      <td>612.0</td>\n",
       "    </tr>\n",
       "    <tr>\n",
       "      <th>12</th>\n",
       "      <td>69</td>\n",
       "      <td>492.0</td>\n",
       "    </tr>\n",
       "  </tbody>\n",
       "</table>\n",
       "<p>3174 rows × 2 columns</p>\n",
       "</div>"
      ],
      "text/plain": [
       "                 count      sum\n",
       "              duration duration\n",
       "user_id month                  \n",
       "1000    5           22    159.0\n",
       "        6           43    172.0\n",
       "        7           47    340.0\n",
       "        8           52    408.0\n",
       "        9           58    466.0\n",
       "...                ...      ...\n",
       "1498    10          41    247.0\n",
       "1499    9            9     70.0\n",
       "        10          68    449.0\n",
       "        11          74    612.0\n",
       "        12          69    492.0\n",
       "\n",
       "[3174 rows x 2 columns]"
      ]
     },
     "execution_count": 11,
     "metadata": {},
     "output_type": "execute_result"
    }
   ],
   "source": [
    "calls_pivot = data_calls.pivot_table(index = ['user_id', 'month'], values = 'duration', aggfunc=['count','sum'])\n",
    "calls_pivot"
   ]
  },
  {
   "cell_type": "markdown",
   "id": "d2397cfc",
   "metadata": {},
   "source": [
    "Посчитаем также **количество отправленных сообщений** по месяцам, после чего объединим полученные рассчеты с предыдущей таблицей. "
   ]
  },
  {
   "cell_type": "code",
   "execution_count": 12,
   "id": "bd0bb3bd",
   "metadata": {},
   "outputs": [
    {
     "data": {
      "text/html": [
       "<div>\n",
       "<style scoped>\n",
       "    .dataframe tbody tr th:only-of-type {\n",
       "        vertical-align: middle;\n",
       "    }\n",
       "\n",
       "    .dataframe tbody tr th {\n",
       "        vertical-align: top;\n",
       "    }\n",
       "\n",
       "    .dataframe thead tr th {\n",
       "        text-align: left;\n",
       "    }\n",
       "\n",
       "    .dataframe thead tr:last-of-type th {\n",
       "        text-align: right;\n",
       "    }\n",
       "</style>\n",
       "<table border=\"1\" class=\"dataframe\">\n",
       "  <thead>\n",
       "    <tr>\n",
       "      <th></th>\n",
       "      <th></th>\n",
       "      <th>count</th>\n",
       "      <th>sum</th>\n",
       "      <th>count</th>\n",
       "    </tr>\n",
       "    <tr>\n",
       "      <th></th>\n",
       "      <th></th>\n",
       "      <th>duration</th>\n",
       "      <th>duration</th>\n",
       "      <th>id</th>\n",
       "    </tr>\n",
       "    <tr>\n",
       "      <th>user_id</th>\n",
       "      <th>month</th>\n",
       "      <th></th>\n",
       "      <th></th>\n",
       "      <th></th>\n",
       "    </tr>\n",
       "  </thead>\n",
       "  <tbody>\n",
       "    <tr>\n",
       "      <th rowspan=\"5\" valign=\"top\">1000</th>\n",
       "      <th>5</th>\n",
       "      <td>22.0</td>\n",
       "      <td>159.0</td>\n",
       "      <td>22.0</td>\n",
       "    </tr>\n",
       "    <tr>\n",
       "      <th>6</th>\n",
       "      <td>43.0</td>\n",
       "      <td>172.0</td>\n",
       "      <td>60.0</td>\n",
       "    </tr>\n",
       "    <tr>\n",
       "      <th>7</th>\n",
       "      <td>47.0</td>\n",
       "      <td>340.0</td>\n",
       "      <td>75.0</td>\n",
       "    </tr>\n",
       "    <tr>\n",
       "      <th>8</th>\n",
       "      <td>52.0</td>\n",
       "      <td>408.0</td>\n",
       "      <td>81.0</td>\n",
       "    </tr>\n",
       "    <tr>\n",
       "      <th>9</th>\n",
       "      <td>58.0</td>\n",
       "      <td>466.0</td>\n",
       "      <td>57.0</td>\n",
       "    </tr>\n",
       "    <tr>\n",
       "      <th>...</th>\n",
       "      <th>...</th>\n",
       "      <td>...</td>\n",
       "      <td>...</td>\n",
       "      <td>...</td>\n",
       "    </tr>\n",
       "    <tr>\n",
       "      <th>1498</th>\n",
       "      <th>8</th>\n",
       "      <td>57.0</td>\n",
       "      <td>400.0</td>\n",
       "      <td>62.0</td>\n",
       "    </tr>\n",
       "    <tr>\n",
       "      <th rowspan=\"4\" valign=\"top\">1499</th>\n",
       "      <th>9</th>\n",
       "      <td>9.0</td>\n",
       "      <td>70.0</td>\n",
       "      <td>11.0</td>\n",
       "    </tr>\n",
       "    <tr>\n",
       "      <th>10</th>\n",
       "      <td>68.0</td>\n",
       "      <td>449.0</td>\n",
       "      <td>48.0</td>\n",
       "    </tr>\n",
       "    <tr>\n",
       "      <th>11</th>\n",
       "      <td>74.0</td>\n",
       "      <td>612.0</td>\n",
       "      <td>59.0</td>\n",
       "    </tr>\n",
       "    <tr>\n",
       "      <th>12</th>\n",
       "      <td>69.0</td>\n",
       "      <td>492.0</td>\n",
       "      <td>66.0</td>\n",
       "    </tr>\n",
       "  </tbody>\n",
       "</table>\n",
       "<p>3213 rows × 3 columns</p>\n",
       "</div>"
      ],
      "text/plain": [
       "                 count      sum count\n",
       "              duration duration    id\n",
       "user_id month                        \n",
       "1000    5         22.0    159.0  22.0\n",
       "        6         43.0    172.0  60.0\n",
       "        7         47.0    340.0  75.0\n",
       "        8         52.0    408.0  81.0\n",
       "        9         58.0    466.0  57.0\n",
       "...                ...      ...   ...\n",
       "1498    8         57.0    400.0  62.0\n",
       "1499    9          9.0     70.0  11.0\n",
       "        10        68.0    449.0  48.0\n",
       "        11        74.0    612.0  59.0\n",
       "        12        69.0    492.0  66.0\n",
       "\n",
       "[3213 rows x 3 columns]"
      ]
     },
     "execution_count": 12,
     "metadata": {},
     "output_type": "execute_result"
    }
   ],
   "source": [
    "messages_pivot = data_messages.pivot_table(index = ['user_id', 'month'], values = 'id', aggfunc=['count'])\n",
    "full_pivot = calls_pivot.merge(messages_pivot, on=['user_id', 'month'], how='outer')\n",
    "full_pivot = full_pivot.sort_values(by='user_id')\n",
    "full_pivot"
   ]
  },
  {
   "cell_type": "markdown",
   "id": "58e0a466",
   "metadata": {},
   "source": [
    "Наконец, просуммируем **длительность интернет-сессий** за каждый месяц по пользователям, и, как и прежде, объединим с предыдущими рассчетами. "
   ]
  },
  {
   "cell_type": "code",
   "execution_count": 13,
   "id": "3eba5a83",
   "metadata": {},
   "outputs": [
    {
     "data": {
      "text/html": [
       "<div>\n",
       "<style scoped>\n",
       "    .dataframe tbody tr th:only-of-type {\n",
       "        vertical-align: middle;\n",
       "    }\n",
       "\n",
       "    .dataframe tbody tr th {\n",
       "        vertical-align: top;\n",
       "    }\n",
       "\n",
       "    .dataframe thead tr th {\n",
       "        text-align: left;\n",
       "    }\n",
       "\n",
       "    .dataframe thead tr:last-of-type th {\n",
       "        text-align: right;\n",
       "    }\n",
       "</style>\n",
       "<table border=\"1\" class=\"dataframe\">\n",
       "  <thead>\n",
       "    <tr>\n",
       "      <th></th>\n",
       "      <th></th>\n",
       "      <th>count</th>\n",
       "      <th>sum</th>\n",
       "      <th>count</th>\n",
       "      <th>sum</th>\n",
       "    </tr>\n",
       "    <tr>\n",
       "      <th></th>\n",
       "      <th></th>\n",
       "      <th>duration</th>\n",
       "      <th>duration</th>\n",
       "      <th>id</th>\n",
       "      <th>mb_used</th>\n",
       "    </tr>\n",
       "    <tr>\n",
       "      <th>user_id</th>\n",
       "      <th>month</th>\n",
       "      <th></th>\n",
       "      <th></th>\n",
       "      <th></th>\n",
       "      <th></th>\n",
       "    </tr>\n",
       "  </thead>\n",
       "  <tbody>\n",
       "    <tr>\n",
       "      <th rowspan=\"5\" valign=\"top\">1000</th>\n",
       "      <th>5</th>\n",
       "      <td>22.0</td>\n",
       "      <td>159.0</td>\n",
       "      <td>22.0</td>\n",
       "      <td>2253.49</td>\n",
       "    </tr>\n",
       "    <tr>\n",
       "      <th>6</th>\n",
       "      <td>43.0</td>\n",
       "      <td>172.0</td>\n",
       "      <td>60.0</td>\n",
       "      <td>23233.77</td>\n",
       "    </tr>\n",
       "    <tr>\n",
       "      <th>7</th>\n",
       "      <td>47.0</td>\n",
       "      <td>340.0</td>\n",
       "      <td>75.0</td>\n",
       "      <td>14003.64</td>\n",
       "    </tr>\n",
       "    <tr>\n",
       "      <th>8</th>\n",
       "      <td>52.0</td>\n",
       "      <td>408.0</td>\n",
       "      <td>81.0</td>\n",
       "      <td>14055.93</td>\n",
       "    </tr>\n",
       "    <tr>\n",
       "      <th>9</th>\n",
       "      <td>58.0</td>\n",
       "      <td>466.0</td>\n",
       "      <td>57.0</td>\n",
       "      <td>14568.91</td>\n",
       "    </tr>\n",
       "    <tr>\n",
       "      <th>...</th>\n",
       "      <th>...</th>\n",
       "      <td>...</td>\n",
       "      <td>...</td>\n",
       "      <td>...</td>\n",
       "      <td>...</td>\n",
       "    </tr>\n",
       "    <tr>\n",
       "      <th>1498</th>\n",
       "      <th>8</th>\n",
       "      <td>57.0</td>\n",
       "      <td>400.0</td>\n",
       "      <td>62.0</td>\n",
       "      <td>24235.21</td>\n",
       "    </tr>\n",
       "    <tr>\n",
       "      <th rowspan=\"4\" valign=\"top\">1499</th>\n",
       "      <th>9</th>\n",
       "      <td>9.0</td>\n",
       "      <td>70.0</td>\n",
       "      <td>11.0</td>\n",
       "      <td>1845.75</td>\n",
       "    </tr>\n",
       "    <tr>\n",
       "      <th>10</th>\n",
       "      <td>68.0</td>\n",
       "      <td>449.0</td>\n",
       "      <td>48.0</td>\n",
       "      <td>17788.51</td>\n",
       "    </tr>\n",
       "    <tr>\n",
       "      <th>11</th>\n",
       "      <td>74.0</td>\n",
       "      <td>612.0</td>\n",
       "      <td>59.0</td>\n",
       "      <td>17963.31</td>\n",
       "    </tr>\n",
       "    <tr>\n",
       "      <th>12</th>\n",
       "      <td>69.0</td>\n",
       "      <td>492.0</td>\n",
       "      <td>66.0</td>\n",
       "      <td>13055.58</td>\n",
       "    </tr>\n",
       "  </tbody>\n",
       "</table>\n",
       "<p>3214 rows × 4 columns</p>\n",
       "</div>"
      ],
      "text/plain": [
       "                 count      sum count       sum\n",
       "              duration duration    id   mb_used\n",
       "user_id month                                  \n",
       "1000    5         22.0    159.0  22.0   2253.49\n",
       "        6         43.0    172.0  60.0  23233.77\n",
       "        7         47.0    340.0  75.0  14003.64\n",
       "        8         52.0    408.0  81.0  14055.93\n",
       "        9         58.0    466.0  57.0  14568.91\n",
       "...                ...      ...   ...       ...\n",
       "1498    8         57.0    400.0  62.0  24235.21\n",
       "1499    9          9.0     70.0  11.0   1845.75\n",
       "        10        68.0    449.0  48.0  17788.51\n",
       "        11        74.0    612.0  59.0  17963.31\n",
       "        12        69.0    492.0  66.0  13055.58\n",
       "\n",
       "[3214 rows x 4 columns]"
      ]
     },
     "execution_count": 13,
     "metadata": {},
     "output_type": "execute_result"
    }
   ],
   "source": [
    "internet_pivot = data_internet.pivot_table(index = ['user_id', 'month'], values = 'mb_used', aggfunc=['sum'])\n",
    "full_pivot = full_pivot.merge(internet_pivot, on=['user_id', 'month'], how='outer')\n",
    "full_pivot = full_pivot.sort_values(by='user_id')\n",
    "full_pivot"
   ]
  },
  {
   "cell_type": "markdown",
   "id": "741863c6",
   "metadata": {},
   "source": [
    "Добавим в получившуюся таблицу информацию о **месте проживания абонента**, а также о его **тарифном плане**, предворительно обновив индексы. "
   ]
  },
  {
   "cell_type": "code",
   "execution_count": 14,
   "id": "31d9a927",
   "metadata": {},
   "outputs": [],
   "source": [
    "full_pivot = full_pivot.reset_index()\n",
    "full_pivot = full_pivot.merge(data_users[['user_id', 'city', 'tariff']], on='user_id', how='inner')"
   ]
  },
  {
   "cell_type": "code",
   "execution_count": 15,
   "id": "5b7d7cc4",
   "metadata": {},
   "outputs": [],
   "source": [
    "full_pivot.columns = ['user_id', 'user_id2', 'month', 'calls_count', 'calls_amount', 'messages_count', 'internet_amount', 'city',\n",
    "                      'tariff']\n",
    "del full_pivot['user_id2']"
   ]
  },
  {
   "cell_type": "markdown",
   "id": "e051bf99",
   "metadata": {},
   "source": [
    "В данных образовались пропуски - в какой-то месяц абонент мог не пользоваться одной из возможных услуг. Заполним эти пропуски наиболее подходящим по смыслу значением - нулем. "
   ]
  },
  {
   "cell_type": "code",
   "execution_count": 16,
   "id": "3c81e5e6",
   "metadata": {},
   "outputs": [],
   "source": [
    "full_pivot = full_pivot.fillna(0)"
   ]
  },
  {
   "cell_type": "markdown",
   "id": "9f0afe70",
   "metadata": {},
   "source": [
    "Перед подсчетом помесячной **выручки** с каждого пользователя вначале необходимо совершить два дополнительных действия - рассчитать траты сверх тарифа, а также произвести второе округление по **объему интернет-сессии**. "
   ]
  },
  {
   "cell_type": "code",
   "execution_count": 17,
   "id": "3ea7eee3",
   "metadata": {},
   "outputs": [],
   "source": [
    "full_pivot['internet_amount'] = full_pivot['internet_amount']/1024\n",
    "full_pivot['internet_amount'] = np.ceil(full_pivot['internet_amount'])"
   ]
  },
  {
   "cell_type": "code",
   "execution_count": 18,
   "id": "a71416a9",
   "metadata": {},
   "outputs": [],
   "source": [
    "full_pivot.loc[(full_pivot['calls_amount'] > 500) & (full_pivot['tariff'] == \"smart\"), 'over_call'] = full_pivot['calls_amount'] - 500\n",
    "full_pivot.loc[(full_pivot['calls_amount'] > 3000) & (full_pivot['tariff'] == \"ultra\"), 'over_call'] = full_pivot['calls_amount'] - 3000\n",
    "\n",
    "full_pivot.loc[(full_pivot['messages_count'] > 50) & (full_pivot['tariff'] == \"smart\"), 'over_messages'] = full_pivot['messages_count'] - 50\n",
    "full_pivot.loc[(full_pivot['messages_count'] > 1000) & (full_pivot['tariff'] == \"ultra\"), 'over_messages'] = full_pivot['messages_count'] - 1000\n",
    "\n",
    "\n",
    "full_pivot.loc[(full_pivot['internet_amount'] > 15) & (full_pivot['tariff'] == \"smart\"), 'over_internet'] = full_pivot['internet_amount'] - 15\n",
    "full_pivot.loc[(full_pivot['internet_amount'] > 30) & (full_pivot['tariff'] == \"ultra\"), 'over_internet'] = full_pivot['internet_amount'] - 30"
   ]
  },
  {
   "cell_type": "code",
   "execution_count": 19,
   "id": "6728f1c2",
   "metadata": {},
   "outputs": [
    {
     "data": {
      "text/plain": [
       "user_id               0\n",
       "month                 0\n",
       "calls_count           0\n",
       "calls_amount          0\n",
       "messages_count        0\n",
       "internet_amount       0\n",
       "city                  0\n",
       "tariff                0\n",
       "over_call          2460\n",
       "over_messages      2650\n",
       "over_internet      1776\n",
       "dtype: int64"
      ]
     },
     "execution_count": 19,
     "metadata": {},
     "output_type": "execute_result"
    }
   ],
   "source": [
    "full_pivot.isna().sum()"
   ]
  },
  {
   "cell_type": "code",
   "execution_count": 20,
   "id": "5a56a343",
   "metadata": {},
   "outputs": [],
   "source": [
    "full_pivot = full_pivot.fillna(0)"
   ]
  },
  {
   "cell_type": "markdown",
   "id": "2318b0f7",
   "metadata": {},
   "source": [
    "И теперь приступим к рассчету **выручки**."
   ]
  },
  {
   "cell_type": "code",
   "execution_count": 21,
   "id": "8f7a8ade",
   "metadata": {},
   "outputs": [],
   "source": [
    "full_pivot.loc[full_pivot['tariff'] == \"smart\", 'revenue'] = 550 + full_pivot['over_call']*3 + full_pivot['over_messages']*3 + full_pivot['over_internet']*200\n",
    "full_pivot.loc[full_pivot['tariff'] == \"ultra\", 'revenue'] = 1950 + full_pivot['over_call'] + full_pivot['over_messages'] + full_pivot['over_internet']*150"
   ]
  },
  {
   "cell_type": "markdown",
   "id": "87439e26",
   "metadata": {},
   "source": [
    "Посмотрим на данные после совершенных преобразований, проверив, что все было выполнено успешно."
   ]
  },
  {
   "cell_type": "code",
   "execution_count": 22,
   "id": "b8db7035",
   "metadata": {},
   "outputs": [
    {
     "name": "stdout",
     "output_type": "stream",
     "text": [
      "<class 'pandas.core.frame.DataFrame'>\n",
      "Int64Index: 3214 entries, 0 to 3213\n",
      "Data columns (total 12 columns):\n",
      " #   Column           Non-Null Count  Dtype  \n",
      "---  ------           --------------  -----  \n",
      " 0   user_id          3214 non-null   int64  \n",
      " 1   month            3214 non-null   int64  \n",
      " 2   calls_count      3214 non-null   float64\n",
      " 3   calls_amount     3214 non-null   float64\n",
      " 4   messages_count   3214 non-null   float64\n",
      " 5   internet_amount  3214 non-null   float64\n",
      " 6   city             3214 non-null   object \n",
      " 7   tariff           3214 non-null   object \n",
      " 8   over_call        3214 non-null   float64\n",
      " 9   over_messages    3214 non-null   float64\n",
      " 10  over_internet    3214 non-null   float64\n",
      " 11  revenue          3214 non-null   float64\n",
      "dtypes: float64(8), int64(2), object(2)\n",
      "memory usage: 455.5+ KB\n"
     ]
    }
   ],
   "source": [
    "full_pivot.info()"
   ]
  },
  {
   "cell_type": "code",
   "execution_count": 23,
   "id": "56c1467e",
   "metadata": {},
   "outputs": [
    {
     "data": {
      "text/html": [
       "<div>\n",
       "<style scoped>\n",
       "    .dataframe tbody tr th:only-of-type {\n",
       "        vertical-align: middle;\n",
       "    }\n",
       "\n",
       "    .dataframe tbody tr th {\n",
       "        vertical-align: top;\n",
       "    }\n",
       "\n",
       "    .dataframe thead th {\n",
       "        text-align: right;\n",
       "    }\n",
       "</style>\n",
       "<table border=\"1\" class=\"dataframe\">\n",
       "  <thead>\n",
       "    <tr style=\"text-align: right;\">\n",
       "      <th></th>\n",
       "      <th>user_id</th>\n",
       "      <th>month</th>\n",
       "      <th>calls_count</th>\n",
       "      <th>calls_amount</th>\n",
       "      <th>messages_count</th>\n",
       "      <th>internet_amount</th>\n",
       "      <th>city</th>\n",
       "      <th>tariff</th>\n",
       "      <th>over_call</th>\n",
       "      <th>over_messages</th>\n",
       "      <th>over_internet</th>\n",
       "      <th>revenue</th>\n",
       "    </tr>\n",
       "  </thead>\n",
       "  <tbody>\n",
       "    <tr>\n",
       "      <th>0</th>\n",
       "      <td>1000</td>\n",
       "      <td>5</td>\n",
       "      <td>22.0</td>\n",
       "      <td>159.0</td>\n",
       "      <td>22.0</td>\n",
       "      <td>3.0</td>\n",
       "      <td>Краснодар</td>\n",
       "      <td>ultra</td>\n",
       "      <td>0.0</td>\n",
       "      <td>0.0</td>\n",
       "      <td>0.0</td>\n",
       "      <td>1950.0</td>\n",
       "    </tr>\n",
       "    <tr>\n",
       "      <th>1</th>\n",
       "      <td>1000</td>\n",
       "      <td>6</td>\n",
       "      <td>43.0</td>\n",
       "      <td>172.0</td>\n",
       "      <td>60.0</td>\n",
       "      <td>23.0</td>\n",
       "      <td>Краснодар</td>\n",
       "      <td>ultra</td>\n",
       "      <td>0.0</td>\n",
       "      <td>0.0</td>\n",
       "      <td>0.0</td>\n",
       "      <td>1950.0</td>\n",
       "    </tr>\n",
       "    <tr>\n",
       "      <th>2</th>\n",
       "      <td>1000</td>\n",
       "      <td>7</td>\n",
       "      <td>47.0</td>\n",
       "      <td>340.0</td>\n",
       "      <td>75.0</td>\n",
       "      <td>14.0</td>\n",
       "      <td>Краснодар</td>\n",
       "      <td>ultra</td>\n",
       "      <td>0.0</td>\n",
       "      <td>0.0</td>\n",
       "      <td>0.0</td>\n",
       "      <td>1950.0</td>\n",
       "    </tr>\n",
       "    <tr>\n",
       "      <th>3</th>\n",
       "      <td>1000</td>\n",
       "      <td>8</td>\n",
       "      <td>52.0</td>\n",
       "      <td>408.0</td>\n",
       "      <td>81.0</td>\n",
       "      <td>14.0</td>\n",
       "      <td>Краснодар</td>\n",
       "      <td>ultra</td>\n",
       "      <td>0.0</td>\n",
       "      <td>0.0</td>\n",
       "      <td>0.0</td>\n",
       "      <td>1950.0</td>\n",
       "    </tr>\n",
       "    <tr>\n",
       "      <th>4</th>\n",
       "      <td>1000</td>\n",
       "      <td>9</td>\n",
       "      <td>58.0</td>\n",
       "      <td>466.0</td>\n",
       "      <td>57.0</td>\n",
       "      <td>15.0</td>\n",
       "      <td>Краснодар</td>\n",
       "      <td>ultra</td>\n",
       "      <td>0.0</td>\n",
       "      <td>0.0</td>\n",
       "      <td>0.0</td>\n",
       "      <td>1950.0</td>\n",
       "    </tr>\n",
       "  </tbody>\n",
       "</table>\n",
       "</div>"
      ],
      "text/plain": [
       "   user_id  month  calls_count  calls_amount  messages_count  internet_amount  \\\n",
       "0     1000      5         22.0         159.0            22.0              3.0   \n",
       "1     1000      6         43.0         172.0            60.0             23.0   \n",
       "2     1000      7         47.0         340.0            75.0             14.0   \n",
       "3     1000      8         52.0         408.0            81.0             14.0   \n",
       "4     1000      9         58.0         466.0            57.0             15.0   \n",
       "\n",
       "        city tariff  over_call  over_messages  over_internet  revenue  \n",
       "0  Краснодар  ultra        0.0            0.0            0.0   1950.0  \n",
       "1  Краснодар  ultra        0.0            0.0            0.0   1950.0  \n",
       "2  Краснодар  ultra        0.0            0.0            0.0   1950.0  \n",
       "3  Краснодар  ultra        0.0            0.0            0.0   1950.0  \n",
       "4  Краснодар  ultra        0.0            0.0            0.0   1950.0  "
      ]
     },
     "execution_count": 23,
     "metadata": {},
     "output_type": "execute_result"
    }
   ],
   "source": [
    "full_pivot.head()"
   ]
  },
  {
   "cell_type": "markdown",
   "id": "81368ff1",
   "metadata": {},
   "source": [
    "Итак, нами была проведена работа по подготовке данных. Мы исправили тип некоторых переменных, что позволило нам провести некоторые последущие рассчеты. Мы не обнаружили никаких ошибок или аномалии в данных. Также мы создали несколько дополнительных рассчетных переменных, которые пригодятся нам при дальнейшем анализе. \n",
    "\n",
    "По итогу мы получили датафрейм, который хранит наиболее значимую для нас информацию об абоненте - количество использований каждой из услуг от оператора, место проживания абонента, его тариф, а также выручка за каждый месяц, в течении которого абонент был подключен к оператору. "
   ]
  },
  {
   "cell_type": "markdown",
   "id": "bc569145",
   "metadata": {},
   "source": [
    "## Общий анализ данных"
   ]
  },
  {
   "cell_type": "markdown",
   "id": "2878bf26",
   "metadata": {},
   "source": [
    "Перейдем к более детальному анализу выборки. На данном этапе мы более детально рассмотрим поведения клиентов оператора. Для этого проанализируем три основных показателя: **длительность** звонков, **общее число сообщений** и **объем интернет-трафика** для пользователей каждого из двух рассматриваемых тарифов в месяц. "
   ]
  },
  {
   "cell_type": "markdown",
   "id": "37d3a017",
   "metadata": {},
   "source": [
    "Для этого выведем описательные статистики для каждой из рассматриваемых характеристик по двум группам. Начнем с пользователей тарифа «Смарт»."
   ]
  },
  {
   "cell_type": "markdown",
   "id": "86f82e06",
   "metadata": {},
   "source": [
    "Рассчитаем основные описательные статистики для пользователей тарифа \"Смарт\" в месяц за весь рассматриваемый период и помесячно. "
   ]
  },
  {
   "cell_type": "code",
   "execution_count": 24,
   "id": "05290499",
   "metadata": {},
   "outputs": [
    {
     "data": {
      "text/html": [
       "<div>\n",
       "<style scoped>\n",
       "    .dataframe tbody tr th:only-of-type {\n",
       "        vertical-align: middle;\n",
       "    }\n",
       "\n",
       "    .dataframe tbody tr th {\n",
       "        vertical-align: top;\n",
       "    }\n",
       "\n",
       "    .dataframe thead th {\n",
       "        text-align: right;\n",
       "    }\n",
       "</style>\n",
       "<table border=\"1\" class=\"dataframe\">\n",
       "  <thead>\n",
       "    <tr style=\"text-align: right;\">\n",
       "      <th></th>\n",
       "      <th>calls_amount</th>\n",
       "      <th>messages_count</th>\n",
       "      <th>internet_amount</th>\n",
       "    </tr>\n",
       "  </thead>\n",
       "  <tbody>\n",
       "    <tr>\n",
       "      <th>count</th>\n",
       "      <td>2229.000000</td>\n",
       "      <td>2229.000000</td>\n",
       "      <td>2229.000000</td>\n",
       "    </tr>\n",
       "    <tr>\n",
       "      <th>mean</th>\n",
       "      <td>417.934948</td>\n",
       "      <td>33.384029</td>\n",
       "      <td>16.328847</td>\n",
       "    </tr>\n",
       "    <tr>\n",
       "      <th>std</th>\n",
       "      <td>190.313730</td>\n",
       "      <td>28.227876</td>\n",
       "      <td>5.747061</td>\n",
       "    </tr>\n",
       "    <tr>\n",
       "      <th>min</th>\n",
       "      <td>0.000000</td>\n",
       "      <td>0.000000</td>\n",
       "      <td>0.000000</td>\n",
       "    </tr>\n",
       "    <tr>\n",
       "      <th>25%</th>\n",
       "      <td>282.000000</td>\n",
       "      <td>10.000000</td>\n",
       "      <td>13.000000</td>\n",
       "    </tr>\n",
       "    <tr>\n",
       "      <th>50%</th>\n",
       "      <td>422.000000</td>\n",
       "      <td>28.000000</td>\n",
       "      <td>17.000000</td>\n",
       "    </tr>\n",
       "    <tr>\n",
       "      <th>75%</th>\n",
       "      <td>545.000000</td>\n",
       "      <td>51.000000</td>\n",
       "      <td>20.000000</td>\n",
       "    </tr>\n",
       "    <tr>\n",
       "      <th>max</th>\n",
       "      <td>1435.000000</td>\n",
       "      <td>143.000000</td>\n",
       "      <td>38.000000</td>\n",
       "    </tr>\n",
       "  </tbody>\n",
       "</table>\n",
       "</div>"
      ],
      "text/plain": [
       "       calls_amount  messages_count  internet_amount\n",
       "count   2229.000000     2229.000000      2229.000000\n",
       "mean     417.934948       33.384029        16.328847\n",
       "std      190.313730       28.227876         5.747061\n",
       "min        0.000000        0.000000         0.000000\n",
       "25%      282.000000       10.000000        13.000000\n",
       "50%      422.000000       28.000000        17.000000\n",
       "75%      545.000000       51.000000        20.000000\n",
       "max     1435.000000      143.000000        38.000000"
      ]
     },
     "metadata": {},
     "output_type": "display_data"
    },
    {
     "data": {
      "text/plain": [
       "calls_amount       36219.315784\n",
       "messages_count       796.812958\n",
       "internet_amount       33.028705\n",
       "dtype: float64"
      ]
     },
     "execution_count": 24,
     "metadata": {},
     "output_type": "execute_result"
    }
   ],
   "source": [
    "features = ['calls_amount', 'messages_count', 'internet_amount']\n",
    "\n",
    "display(full_pivot.query('tariff == \"smart\"')[features].describe())\n",
    "full_pivot.query('tariff == \"smart\"')[features].var()"
   ]
  },
  {
   "cell_type": "code",
   "execution_count": 25,
   "id": "488d3efa",
   "metadata": {
    "scrolled": true
   },
   "outputs": [
    {
     "data": {
      "text/html": [
       "<div>\n",
       "<style scoped>\n",
       "    .dataframe tbody tr th:only-of-type {\n",
       "        vertical-align: middle;\n",
       "    }\n",
       "\n",
       "    .dataframe tbody tr th {\n",
       "        vertical-align: top;\n",
       "    }\n",
       "\n",
       "    .dataframe thead tr th {\n",
       "        text-align: left;\n",
       "    }\n",
       "\n",
       "    .dataframe thead tr:last-of-type th {\n",
       "        text-align: right;\n",
       "    }\n",
       "</style>\n",
       "<table border=\"1\" class=\"dataframe\">\n",
       "  <thead>\n",
       "    <tr>\n",
       "      <th></th>\n",
       "      <th colspan=\"3\" halign=\"left\">count</th>\n",
       "      <th colspan=\"3\" halign=\"left\">mean</th>\n",
       "      <th colspan=\"3\" halign=\"left\">std</th>\n",
       "      <th colspan=\"3\" halign=\"left\">var</th>\n",
       "    </tr>\n",
       "    <tr>\n",
       "      <th></th>\n",
       "      <th>calls_amount</th>\n",
       "      <th>internet_amount</th>\n",
       "      <th>messages_count</th>\n",
       "      <th>calls_amount</th>\n",
       "      <th>internet_amount</th>\n",
       "      <th>messages_count</th>\n",
       "      <th>calls_amount</th>\n",
       "      <th>internet_amount</th>\n",
       "      <th>messages_count</th>\n",
       "      <th>calls_amount</th>\n",
       "      <th>internet_amount</th>\n",
       "      <th>messages_count</th>\n",
       "    </tr>\n",
       "    <tr>\n",
       "      <th>month</th>\n",
       "      <th></th>\n",
       "      <th></th>\n",
       "      <th></th>\n",
       "      <th></th>\n",
       "      <th></th>\n",
       "      <th></th>\n",
       "      <th></th>\n",
       "      <th></th>\n",
       "      <th></th>\n",
       "      <th></th>\n",
       "      <th></th>\n",
       "      <th></th>\n",
       "    </tr>\n",
       "  </thead>\n",
       "  <tbody>\n",
       "    <tr>\n",
       "      <th>1</th>\n",
       "      <td>34</td>\n",
       "      <td>34</td>\n",
       "      <td>34</td>\n",
       "      <td>203.852941</td>\n",
       "      <td>8.735294</td>\n",
       "      <td>18.235294</td>\n",
       "      <td>154.231454</td>\n",
       "      <td>6.277950</td>\n",
       "      <td>16.197753</td>\n",
       "      <td>23787.341355</td>\n",
       "      <td>39.412656</td>\n",
       "      <td>262.367201</td>\n",
       "    </tr>\n",
       "    <tr>\n",
       "      <th>2</th>\n",
       "      <td>58</td>\n",
       "      <td>58</td>\n",
       "      <td>58</td>\n",
       "      <td>298.689655</td>\n",
       "      <td>11.844828</td>\n",
       "      <td>24.086207</td>\n",
       "      <td>190.820041</td>\n",
       "      <td>6.095157</td>\n",
       "      <td>21.750809</td>\n",
       "      <td>36412.287961</td>\n",
       "      <td>37.150938</td>\n",
       "      <td>473.097701</td>\n",
       "    </tr>\n",
       "    <tr>\n",
       "      <th>3</th>\n",
       "      <td>77</td>\n",
       "      <td>77</td>\n",
       "      <td>77</td>\n",
       "      <td>390.051948</td>\n",
       "      <td>15.233766</td>\n",
       "      <td>31.857143</td>\n",
       "      <td>191.893604</td>\n",
       "      <td>5.705252</td>\n",
       "      <td>26.804710</td>\n",
       "      <td>36823.155161</td>\n",
       "      <td>32.549897</td>\n",
       "      <td>718.492481</td>\n",
       "    </tr>\n",
       "    <tr>\n",
       "      <th>4</th>\n",
       "      <td>112</td>\n",
       "      <td>112</td>\n",
       "      <td>112</td>\n",
       "      <td>367.133929</td>\n",
       "      <td>13.625000</td>\n",
       "      <td>30.741071</td>\n",
       "      <td>186.489161</td>\n",
       "      <td>5.594600</td>\n",
       "      <td>24.538532</td>\n",
       "      <td>34778.207127</td>\n",
       "      <td>31.299550</td>\n",
       "      <td>602.139559</td>\n",
       "    </tr>\n",
       "    <tr>\n",
       "      <th>5</th>\n",
       "      <td>141</td>\n",
       "      <td>141</td>\n",
       "      <td>141</td>\n",
       "      <td>387.361702</td>\n",
       "      <td>15.907801</td>\n",
       "      <td>33.773050</td>\n",
       "      <td>186.601343</td>\n",
       "      <td>5.862594</td>\n",
       "      <td>27.036845</td>\n",
       "      <td>34820.061094</td>\n",
       "      <td>34.370010</td>\n",
       "      <td>730.990983</td>\n",
       "    </tr>\n",
       "    <tr>\n",
       "      <th>6</th>\n",
       "      <td>164</td>\n",
       "      <td>164</td>\n",
       "      <td>164</td>\n",
       "      <td>395.640244</td>\n",
       "      <td>15.951220</td>\n",
       "      <td>33.402439</td>\n",
       "      <td>175.336587</td>\n",
       "      <td>5.649046</td>\n",
       "      <td>28.404337</td>\n",
       "      <td>30742.918861</td>\n",
       "      <td>31.911716</td>\n",
       "      <td>806.806374</td>\n",
       "    </tr>\n",
       "    <tr>\n",
       "      <th>7</th>\n",
       "      <td>201</td>\n",
       "      <td>201</td>\n",
       "      <td>201</td>\n",
       "      <td>408.353234</td>\n",
       "      <td>15.875622</td>\n",
       "      <td>33.751244</td>\n",
       "      <td>179.583601</td>\n",
       "      <td>5.780956</td>\n",
       "      <td>28.282288</td>\n",
       "      <td>32250.269602</td>\n",
       "      <td>33.419453</td>\n",
       "      <td>799.887811</td>\n",
       "    </tr>\n",
       "    <tr>\n",
       "      <th>8</th>\n",
       "      <td>235</td>\n",
       "      <td>235</td>\n",
       "      <td>235</td>\n",
       "      <td>421.468085</td>\n",
       "      <td>16.736170</td>\n",
       "      <td>33.638298</td>\n",
       "      <td>186.530382</td>\n",
       "      <td>5.480986</td>\n",
       "      <td>28.952677</td>\n",
       "      <td>34793.583379</td>\n",
       "      <td>30.041207</td>\n",
       "      <td>838.257501</td>\n",
       "    </tr>\n",
       "    <tr>\n",
       "      <th>9</th>\n",
       "      <td>260</td>\n",
       "      <td>260</td>\n",
       "      <td>260</td>\n",
       "      <td>428.611538</td>\n",
       "      <td>16.392308</td>\n",
       "      <td>33.638462</td>\n",
       "      <td>183.126576</td>\n",
       "      <td>5.087643</td>\n",
       "      <td>28.117927</td>\n",
       "      <td>33535.342723</td>\n",
       "      <td>25.884110</td>\n",
       "      <td>790.617820</td>\n",
       "    </tr>\n",
       "    <tr>\n",
       "      <th>10</th>\n",
       "      <td>294</td>\n",
       "      <td>294</td>\n",
       "      <td>294</td>\n",
       "      <td>426.136054</td>\n",
       "      <td>16.880952</td>\n",
       "      <td>33.765306</td>\n",
       "      <td>188.128510</td>\n",
       "      <td>5.735594</td>\n",
       "      <td>28.567673</td>\n",
       "      <td>35392.336375</td>\n",
       "      <td>32.897042</td>\n",
       "      <td>816.111966</td>\n",
       "    </tr>\n",
       "    <tr>\n",
       "      <th>11</th>\n",
       "      <td>316</td>\n",
       "      <td>316</td>\n",
       "      <td>316</td>\n",
       "      <td>435.265823</td>\n",
       "      <td>17.000000</td>\n",
       "      <td>34.075949</td>\n",
       "      <td>177.778618</td>\n",
       "      <td>5.213535</td>\n",
       "      <td>28.389031</td>\n",
       "      <td>31605.237050</td>\n",
       "      <td>27.180952</td>\n",
       "      <td>805.937071</td>\n",
       "    </tr>\n",
       "    <tr>\n",
       "      <th>12</th>\n",
       "      <td>337</td>\n",
       "      <td>337</td>\n",
       "      <td>337</td>\n",
       "      <td>478.560831</td>\n",
       "      <td>18.201780</td>\n",
       "      <td>35.994065</td>\n",
       "      <td>199.245131</td>\n",
       "      <td>5.457705</td>\n",
       "      <td>30.576990</td>\n",
       "      <td>39698.622033</td>\n",
       "      <td>29.786544</td>\n",
       "      <td>934.952346</td>\n",
       "    </tr>\n",
       "  </tbody>\n",
       "</table>\n",
       "</div>"
      ],
      "text/plain": [
       "             count                                        mean  \\\n",
       "      calls_amount internet_amount messages_count calls_amount   \n",
       "month                                                            \n",
       "1               34              34             34   203.852941   \n",
       "2               58              58             58   298.689655   \n",
       "3               77              77             77   390.051948   \n",
       "4              112             112            112   367.133929   \n",
       "5              141             141            141   387.361702   \n",
       "6              164             164            164   395.640244   \n",
       "7              201             201            201   408.353234   \n",
       "8              235             235            235   421.468085   \n",
       "9              260             260            260   428.611538   \n",
       "10             294             294            294   426.136054   \n",
       "11             316             316            316   435.265823   \n",
       "12             337             337            337   478.560831   \n",
       "\n",
       "                                              std                  \\\n",
       "      internet_amount messages_count calls_amount internet_amount   \n",
       "month                                                               \n",
       "1            8.735294      18.235294   154.231454        6.277950   \n",
       "2           11.844828      24.086207   190.820041        6.095157   \n",
       "3           15.233766      31.857143   191.893604        5.705252   \n",
       "4           13.625000      30.741071   186.489161        5.594600   \n",
       "5           15.907801      33.773050   186.601343        5.862594   \n",
       "6           15.951220      33.402439   175.336587        5.649046   \n",
       "7           15.875622      33.751244   179.583601        5.780956   \n",
       "8           16.736170      33.638298   186.530382        5.480986   \n",
       "9           16.392308      33.638462   183.126576        5.087643   \n",
       "10          16.880952      33.765306   188.128510        5.735594   \n",
       "11          17.000000      34.075949   177.778618        5.213535   \n",
       "12          18.201780      35.994065   199.245131        5.457705   \n",
       "\n",
       "                               var                                 \n",
       "      messages_count  calls_amount internet_amount messages_count  \n",
       "month                                                              \n",
       "1          16.197753  23787.341355       39.412656     262.367201  \n",
       "2          21.750809  36412.287961       37.150938     473.097701  \n",
       "3          26.804710  36823.155161       32.549897     718.492481  \n",
       "4          24.538532  34778.207127       31.299550     602.139559  \n",
       "5          27.036845  34820.061094       34.370010     730.990983  \n",
       "6          28.404337  30742.918861       31.911716     806.806374  \n",
       "7          28.282288  32250.269602       33.419453     799.887811  \n",
       "8          28.952677  34793.583379       30.041207     838.257501  \n",
       "9          28.117927  33535.342723       25.884110     790.617820  \n",
       "10         28.567673  35392.336375       32.897042     816.111966  \n",
       "11         28.389031  31605.237050       27.180952     805.937071  \n",
       "12         30.576990  39698.622033       29.786544     934.952346  "
      ]
     },
     "execution_count": 25,
     "metadata": {},
     "output_type": "execute_result"
    }
   ],
   "source": [
    "full_pivot.query('tariff == \"smart\"').pivot_table(index='month', values = features, aggfunc = ['count', 'mean', 'std', 'var'])"
   ]
  },
  {
   "cell_type": "markdown",
   "id": "4708668d",
   "metadata": {},
   "source": [
    "Для начала рассмотрим общую описательную статистику. Суммарная средняя **продолжительность звонков** у пользователей тарифа \"Смарт\" составляет почти 420 минут, что в переводе на часы составляет 7 часов. В целом, для современного мира это не слишком большая величина - вероятно, многие предпочитают альтернативные методы коммуникаций, по типу специальных мессенджеров. В то же время стандартная ошибка для средней продолжительности звонков составляет около 190 минут - разброс значений переменной присутствует, но он не критичен, при этом выборка обладает средней вариабельностью.\n",
    "\n",
    "Среднее число **отправленных в месяц СМС** составляет около 33 штук, что также не много. Опять таки, подобное небольшое значение обусловлено популярностью альтернативных способов связи. Стандартное отклонение, как и дисперсия, довольно высоки - это говорит о существенной мере рассеяности выборки и о большой вариабельности среди значений.\n",
    "\n",
    "Наконец, средний **объем потребляемого трафика** для интернет-сессий составляет около 16 гигабайт, что даже больше объема, включенного в пакет. Интернет действительно популярен в использовании, так что полученные результаты вполне разумны. Данная характеристика обладает наименьшим разбросом среди значений - стандартное отклонение составляет 5 гигабайт. \n",
    "\n",
    "Теперь немного поговорим о помесячных показателях. Как можно заметить, в течении года наблюдается рост числа абонентов, и описательные статистики по каждой из характеристик становятся ближе к средним значениям за год. Сильнее всего выделяются первые два месяца: январь и февраль, - именно тогда описательная статистика наиболее сильно разнится со средними значениями за год. В целом, это довольно логично - в эти месяца доля абонентов относительно итоговой выборки была невелика, а значит их поведение могло сильно отличаться от среднего поведения итоговой группы. \n",
    "\n",
    "Что еще можно отметить из помесячной таблицы? Прежде всего, средние значения всех характеристик преимущественно растут в течении года. В некотором роде исключением можно посчитать **количество СМС** - во второй половине года наблюдаются постоянные колебания, хотя к последним двум месяцам средние значения все-таки выросли. \n",
    "\n",
    "Относительно стандартного отклонения все менее однозначно. Разрброс значений для **суммарной продолжительности звонков** в первые месяцы был весьма велик, однако постепенно он начал снижаться. В середине года наступила точка перегиба, после которой разброс значений снова начал расти. У **количества СМС**, напротив, вариабельность преимущественно увеличивалась. Наконец, у суммарного **объема интрнет-трафика** разброс значений все время был на примерно одном уровне. "
   ]
  },
  {
   "cell_type": "markdown",
   "id": "eff3addb",
   "metadata": {},
   "source": [
    "Теперь детальнее рассмотрим распределение для каждой из характеристик клиентов с тарифом «Смарт»."
   ]
  },
  {
   "cell_type": "code",
   "execution_count": 26,
   "id": "6e2b3278",
   "metadata": {},
   "outputs": [
    {
     "data": {
      "image/png": "[encoded data removed]",
      "text/plain": [
       "<Figure size 1440x1080 with 4 Axes>"
      ]
     },
     "metadata": {
      "needs_background": "light"
     },
     "output_type": "display_data"
    }
   ],
   "source": [
    "full_pivot.query('tariff == \"smart\"')[features].hist(figsize=(20,15))\n",
    "plt.show()"
   ]
  },
  {
   "cell_type": "markdown",
   "id": "82b57f82",
   "metadata": {},
   "source": [
    "Оценка распределений на глаз является довольно грубой формой, ведь для этого лучше подойдут специальные тесты, однако в рамках данного кейса обойдемся лишь гистограммами. \n",
    "\n",
    "Распределение средней длительности звонков в месяц довольно близко к нормальному, но таковым не является - возможно, для описания данной характеристики лучше подойдет распределение Пуассона. Распределение числа отправленных СМС весьма далеко от номрального - вполне возможно, что оно больше походит на Геометрическое распределение. Распределение объема израсходованного интернет трафика, в целом, можно описать как нормальное. "
   ]
  },
  {
   "cell_type": "markdown",
   "id": "28ba41de",
   "metadata": {},
   "source": [
    "Повторим проделанные нами ранее действия для клинетов с тарифом «Ультра». Начнем с предоставления описательных статистик."
   ]
  },
  {
   "cell_type": "code",
   "execution_count": 27,
   "id": "4f102a6a",
   "metadata": {},
   "outputs": [
    {
     "data": {
      "text/html": [
       "<div>\n",
       "<style scoped>\n",
       "    .dataframe tbody tr th:only-of-type {\n",
       "        vertical-align: middle;\n",
       "    }\n",
       "\n",
       "    .dataframe tbody tr th {\n",
       "        vertical-align: top;\n",
       "    }\n",
       "\n",
       "    .dataframe thead th {\n",
       "        text-align: right;\n",
       "    }\n",
       "</style>\n",
       "<table border=\"1\" class=\"dataframe\">\n",
       "  <thead>\n",
       "    <tr style=\"text-align: right;\">\n",
       "      <th></th>\n",
       "      <th>calls_amount</th>\n",
       "      <th>messages_count</th>\n",
       "      <th>internet_amount</th>\n",
       "    </tr>\n",
       "  </thead>\n",
       "  <tbody>\n",
       "    <tr>\n",
       "      <th>count</th>\n",
       "      <td>985.000000</td>\n",
       "      <td>985.000000</td>\n",
       "      <td>985.000000</td>\n",
       "    </tr>\n",
       "    <tr>\n",
       "      <th>mean</th>\n",
       "      <td>526.623350</td>\n",
       "      <td>49.363452</td>\n",
       "      <td>19.494416</td>\n",
       "    </tr>\n",
       "    <tr>\n",
       "      <th>std</th>\n",
       "      <td>317.606098</td>\n",
       "      <td>47.804457</td>\n",
       "      <td>9.853511</td>\n",
       "    </tr>\n",
       "    <tr>\n",
       "      <th>min</th>\n",
       "      <td>0.000000</td>\n",
       "      <td>0.000000</td>\n",
       "      <td>0.000000</td>\n",
       "    </tr>\n",
       "    <tr>\n",
       "      <th>25%</th>\n",
       "      <td>284.000000</td>\n",
       "      <td>6.000000</td>\n",
       "      <td>12.000000</td>\n",
       "    </tr>\n",
       "    <tr>\n",
       "      <th>50%</th>\n",
       "      <td>518.000000</td>\n",
       "      <td>38.000000</td>\n",
       "      <td>19.000000</td>\n",
       "    </tr>\n",
       "    <tr>\n",
       "      <th>75%</th>\n",
       "      <td>752.000000</td>\n",
       "      <td>79.000000</td>\n",
       "      <td>27.000000</td>\n",
       "    </tr>\n",
       "    <tr>\n",
       "      <th>max</th>\n",
       "      <td>1673.000000</td>\n",
       "      <td>224.000000</td>\n",
       "      <td>49.000000</td>\n",
       "    </tr>\n",
       "  </tbody>\n",
       "</table>\n",
       "</div>"
      ],
      "text/plain": [
       "       calls_amount  messages_count  internet_amount\n",
       "count    985.000000      985.000000       985.000000\n",
       "mean     526.623350       49.363452        19.494416\n",
       "std      317.606098       47.804457         9.853511\n",
       "min        0.000000        0.000000         0.000000\n",
       "25%      284.000000        6.000000        12.000000\n",
       "50%      518.000000       38.000000        19.000000\n",
       "75%      752.000000       79.000000        27.000000\n",
       "max     1673.000000      224.000000        49.000000"
      ]
     },
     "metadata": {},
     "output_type": "display_data"
    },
    {
     "data": {
      "text/plain": [
       "calls_amount       100873.633397\n",
       "messages_count       2285.266143\n",
       "internet_amount        97.091686\n",
       "dtype: float64"
      ]
     },
     "execution_count": 27,
     "metadata": {},
     "output_type": "execute_result"
    }
   ],
   "source": [
    "display(full_pivot.query('tariff == \"ultra\"')[features].describe())\n",
    "full_pivot.query('tariff == \"ultra\"')[features].var()"
   ]
  },
  {
   "cell_type": "code",
   "execution_count": 28,
   "id": "58bc4e11",
   "metadata": {
    "scrolled": true
   },
   "outputs": [
    {
     "data": {
      "text/html": [
       "<div>\n",
       "<style scoped>\n",
       "    .dataframe tbody tr th:only-of-type {\n",
       "        vertical-align: middle;\n",
       "    }\n",
       "\n",
       "    .dataframe tbody tr th {\n",
       "        vertical-align: top;\n",
       "    }\n",
       "\n",
       "    .dataframe thead tr th {\n",
       "        text-align: left;\n",
       "    }\n",
       "\n",
       "    .dataframe thead tr:last-of-type th {\n",
       "        text-align: right;\n",
       "    }\n",
       "</style>\n",
       "<table border=\"1\" class=\"dataframe\">\n",
       "  <thead>\n",
       "    <tr>\n",
       "      <th></th>\n",
       "      <th colspan=\"3\" halign=\"left\">count</th>\n",
       "      <th colspan=\"3\" halign=\"left\">mean</th>\n",
       "      <th colspan=\"3\" halign=\"left\">std</th>\n",
       "      <th colspan=\"3\" halign=\"left\">var</th>\n",
       "    </tr>\n",
       "    <tr>\n",
       "      <th></th>\n",
       "      <th>calls_amount</th>\n",
       "      <th>internet_amount</th>\n",
       "      <th>messages_count</th>\n",
       "      <th>calls_amount</th>\n",
       "      <th>internet_amount</th>\n",
       "      <th>messages_count</th>\n",
       "      <th>calls_amount</th>\n",
       "      <th>internet_amount</th>\n",
       "      <th>messages_count</th>\n",
       "      <th>calls_amount</th>\n",
       "      <th>internet_amount</th>\n",
       "      <th>messages_count</th>\n",
       "    </tr>\n",
       "    <tr>\n",
       "      <th>month</th>\n",
       "      <th></th>\n",
       "      <th></th>\n",
       "      <th></th>\n",
       "      <th></th>\n",
       "      <th></th>\n",
       "      <th></th>\n",
       "      <th></th>\n",
       "      <th></th>\n",
       "      <th></th>\n",
       "      <th></th>\n",
       "      <th></th>\n",
       "      <th></th>\n",
       "    </tr>\n",
       "  </thead>\n",
       "  <tbody>\n",
       "    <tr>\n",
       "      <th>1</th>\n",
       "      <td>9</td>\n",
       "      <td>9</td>\n",
       "      <td>9</td>\n",
       "      <td>428.111111</td>\n",
       "      <td>13.222222</td>\n",
       "      <td>33.777778</td>\n",
       "      <td>269.757968</td>\n",
       "      <td>6.666667</td>\n",
       "      <td>30.670742</td>\n",
       "      <td>72769.361111</td>\n",
       "      <td>44.444444</td>\n",
       "      <td>940.694444</td>\n",
       "    </tr>\n",
       "    <tr>\n",
       "      <th>2</th>\n",
       "      <td>24</td>\n",
       "      <td>24</td>\n",
       "      <td>24</td>\n",
       "      <td>297.125000</td>\n",
       "      <td>12.000000</td>\n",
       "      <td>21.958333</td>\n",
       "      <td>296.512528</td>\n",
       "      <td>10.446551</td>\n",
       "      <td>26.773574</td>\n",
       "      <td>87919.679348</td>\n",
       "      <td>109.130435</td>\n",
       "      <td>716.824275</td>\n",
       "    </tr>\n",
       "    <tr>\n",
       "      <th>3</th>\n",
       "      <td>37</td>\n",
       "      <td>37</td>\n",
       "      <td>37</td>\n",
       "      <td>489.648649</td>\n",
       "      <td>17.648649</td>\n",
       "      <td>32.297297</td>\n",
       "      <td>333.743765</td>\n",
       "      <td>10.693238</td>\n",
       "      <td>41.621886</td>\n",
       "      <td>111384.900901</td>\n",
       "      <td>114.345345</td>\n",
       "      <td>1732.381381</td>\n",
       "    </tr>\n",
       "    <tr>\n",
       "      <th>4</th>\n",
       "      <td>55</td>\n",
       "      <td>55</td>\n",
       "      <td>55</td>\n",
       "      <td>458.018182</td>\n",
       "      <td>16.963636</td>\n",
       "      <td>31.563636</td>\n",
       "      <td>267.682405</td>\n",
       "      <td>9.457436</td>\n",
       "      <td>37.513831</td>\n",
       "      <td>71653.870034</td>\n",
       "      <td>89.443098</td>\n",
       "      <td>1407.287542</td>\n",
       "    </tr>\n",
       "    <tr>\n",
       "      <th>5</th>\n",
       "      <td>67</td>\n",
       "      <td>67</td>\n",
       "      <td>67</td>\n",
       "      <td>510.328358</td>\n",
       "      <td>19.373134</td>\n",
       "      <td>37.850746</td>\n",
       "      <td>289.603511</td>\n",
       "      <td>9.779130</td>\n",
       "      <td>40.306874</td>\n",
       "      <td>83870.193578</td>\n",
       "      <td>95.631389</td>\n",
       "      <td>1624.644052</td>\n",
       "    </tr>\n",
       "    <tr>\n",
       "      <th>6</th>\n",
       "      <td>84</td>\n",
       "      <td>84</td>\n",
       "      <td>84</td>\n",
       "      <td>479.702381</td>\n",
       "      <td>18.940476</td>\n",
       "      <td>41.726190</td>\n",
       "      <td>302.549081</td>\n",
       "      <td>9.077114</td>\n",
       "      <td>44.567899</td>\n",
       "      <td>91535.946500</td>\n",
       "      <td>82.394005</td>\n",
       "      <td>1986.297619</td>\n",
       "    </tr>\n",
       "    <tr>\n",
       "      <th>7</th>\n",
       "      <td>91</td>\n",
       "      <td>91</td>\n",
       "      <td>91</td>\n",
       "      <td>545.791209</td>\n",
       "      <td>20.505495</td>\n",
       "      <td>49.846154</td>\n",
       "      <td>307.119322</td>\n",
       "      <td>9.819905</td>\n",
       "      <td>48.703621</td>\n",
       "      <td>94322.278144</td>\n",
       "      <td>96.430525</td>\n",
       "      <td>2372.042735</td>\n",
       "    </tr>\n",
       "    <tr>\n",
       "      <th>8</th>\n",
       "      <td>107</td>\n",
       "      <td>107</td>\n",
       "      <td>107</td>\n",
       "      <td>510.775701</td>\n",
       "      <td>19.598131</td>\n",
       "      <td>48.439252</td>\n",
       "      <td>312.980026</td>\n",
       "      <td>10.254184</td>\n",
       "      <td>46.601923</td>\n",
       "      <td>97956.496385</td>\n",
       "      <td>105.148298</td>\n",
       "      <td>2171.739199</td>\n",
       "    </tr>\n",
       "    <tr>\n",
       "      <th>9</th>\n",
       "      <td>115</td>\n",
       "      <td>115</td>\n",
       "      <td>115</td>\n",
       "      <td>539.443478</td>\n",
       "      <td>19.243478</td>\n",
       "      <td>52.286957</td>\n",
       "      <td>325.141162</td>\n",
       "      <td>9.287410</td>\n",
       "      <td>46.398874</td>\n",
       "      <td>105716.775286</td>\n",
       "      <td>86.255988</td>\n",
       "      <td>2152.855530</td>\n",
       "    </tr>\n",
       "    <tr>\n",
       "      <th>10</th>\n",
       "      <td>123</td>\n",
       "      <td>123</td>\n",
       "      <td>123</td>\n",
       "      <td>558.081301</td>\n",
       "      <td>20.065041</td>\n",
       "      <td>58.430894</td>\n",
       "      <td>326.289110</td>\n",
       "      <td>9.552907</td>\n",
       "      <td>51.934398</td>\n",
       "      <td>106464.583500</td>\n",
       "      <td>91.258030</td>\n",
       "      <td>2697.181661</td>\n",
       "    </tr>\n",
       "    <tr>\n",
       "      <th>11</th>\n",
       "      <td>134</td>\n",
       "      <td>134</td>\n",
       "      <td>134</td>\n",
       "      <td>541.380597</td>\n",
       "      <td>19.805970</td>\n",
       "      <td>55.791045</td>\n",
       "      <td>310.757232</td>\n",
       "      <td>9.684867</td>\n",
       "      <td>49.768951</td>\n",
       "      <td>96570.057064</td>\n",
       "      <td>93.796656</td>\n",
       "      <td>2476.948491</td>\n",
       "    </tr>\n",
       "    <tr>\n",
       "      <th>12</th>\n",
       "      <td>139</td>\n",
       "      <td>139</td>\n",
       "      <td>139</td>\n",
       "      <td>592.805755</td>\n",
       "      <td>21.741007</td>\n",
       "      <td>60.611511</td>\n",
       "      <td>342.456321</td>\n",
       "      <td>10.160550</td>\n",
       "      <td>51.787821</td>\n",
       "      <td>117276.331561</td>\n",
       "      <td>103.236784</td>\n",
       "      <td>2681.978417</td>\n",
       "    </tr>\n",
       "  </tbody>\n",
       "</table>\n",
       "</div>"
      ],
      "text/plain": [
       "             count                                        mean  \\\n",
       "      calls_amount internet_amount messages_count calls_amount   \n",
       "month                                                            \n",
       "1                9               9              9   428.111111   \n",
       "2               24              24             24   297.125000   \n",
       "3               37              37             37   489.648649   \n",
       "4               55              55             55   458.018182   \n",
       "5               67              67             67   510.328358   \n",
       "6               84              84             84   479.702381   \n",
       "7               91              91             91   545.791209   \n",
       "8              107             107            107   510.775701   \n",
       "9              115             115            115   539.443478   \n",
       "10             123             123            123   558.081301   \n",
       "11             134             134            134   541.380597   \n",
       "12             139             139            139   592.805755   \n",
       "\n",
       "                                              std                  \\\n",
       "      internet_amount messages_count calls_amount internet_amount   \n",
       "month                                                               \n",
       "1           13.222222      33.777778   269.757968        6.666667   \n",
       "2           12.000000      21.958333   296.512528       10.446551   \n",
       "3           17.648649      32.297297   333.743765       10.693238   \n",
       "4           16.963636      31.563636   267.682405        9.457436   \n",
       "5           19.373134      37.850746   289.603511        9.779130   \n",
       "6           18.940476      41.726190   302.549081        9.077114   \n",
       "7           20.505495      49.846154   307.119322        9.819905   \n",
       "8           19.598131      48.439252   312.980026       10.254184   \n",
       "9           19.243478      52.286957   325.141162        9.287410   \n",
       "10          20.065041      58.430894   326.289110        9.552907   \n",
       "11          19.805970      55.791045   310.757232        9.684867   \n",
       "12          21.741007      60.611511   342.456321       10.160550   \n",
       "\n",
       "                                var                                 \n",
       "      messages_count   calls_amount internet_amount messages_count  \n",
       "month                                                               \n",
       "1          30.670742   72769.361111       44.444444     940.694444  \n",
       "2          26.773574   87919.679348      109.130435     716.824275  \n",
       "3          41.621886  111384.900901      114.345345    1732.381381  \n",
       "4          37.513831   71653.870034       89.443098    1407.287542  \n",
       "5          40.306874   83870.193578       95.631389    1624.644052  \n",
       "6          44.567899   91535.946500       82.394005    1986.297619  \n",
       "7          48.703621   94322.278144       96.430525    2372.042735  \n",
       "8          46.601923   97956.496385      105.148298    2171.739199  \n",
       "9          46.398874  105716.775286       86.255988    2152.855530  \n",
       "10         51.934398  106464.583500       91.258030    2697.181661  \n",
       "11         49.768951   96570.057064       93.796656    2476.948491  \n",
       "12         51.787821  117276.331561      103.236784    2681.978417  "
      ]
     },
     "execution_count": 28,
     "metadata": {},
     "output_type": "execute_result"
    }
   ],
   "source": [
    "full_pivot.query('tariff == \"ultra\"').pivot_table(index='month', values = features, aggfunc = ['count', 'mean', 'std', 'var'])"
   ]
  },
  {
   "cell_type": "markdown",
   "id": "9360ea74",
   "metadata": {},
   "source": [
    "Как и до этого начнем в рассмотрения общей описательной статистики за год в целом.\n",
    "\n",
    "Суммарная средняя **продолжительность звонков** у пользователей тарифа \"Ультра\" составляет порядка 526 минут, что в переводе на часы составляет почти 9 часов. Пусть данная величина также не слишком велика, она все-таки больше среднего для пользователей тарифа \"Смарт\". Видимо, тариф \"Ультра\" подключают те, кто осознает, что им действительно понадобится больший пакет услуг. Стандартное отклонение составляет 317 минут, что все-таки выше среднего, однако оно не достигает критического уровня. Таким образом, мы можем сделать вывод о том, что вариабельность в данной характеристики несколько выше среднего.\n",
    "\n",
    "Среднее число **отправленных в месяц СМС** составляет почти 50 штук, что также не много, но, опять таки, выше чем для пользователей тарифа \"Смарт\". Между тем, стандартное отклонение, как и дисперсия, также довольно высоки - это говорит о существенной мере рассеяности выборки и о большой вариабельности среди значений.\n",
    "\n",
    "Наконец, средний **объем потребляемого трафика** для интернет-сессий составляет около 20 гигабайт, что все-таки меньше объема, включенного в пакет. Видимо, те, кому интернет нужен в существенном объеме, используют альтернативные способы его получения (роутеры и т.д.), а на потребление за счет оператора приходится меньший объем. Данная характеристика также обладает наименьшим разбросом среди значений - стандартное отклонение составляет 9 гигабайт. \n",
    "\n",
    "Также затронем помесячные данные. Как и в случае с абонентами тарифа \"Смарт\", число пользователей тарифа \"Ультра\" растет в течении года, хотя их итоговое число все-таки меньше по сравнению с другой группой. Сильнее всего вновь выделяются первые два месяца: январь и февраль, - именно тогда описательная статистика наиболее сильно разнится со средними значениями за год.\n",
    "\n",
    "Рост средних значений всех характеристик для данной группы выражен не так ярко - преимущесвенно стабильный рост показывает только характеристика числа отправленных СМС, в то время как для двух других показателей наблюдаются некоторые колебания.\n",
    "\n",
    "Стандартное отклонение для данной категории также сильно зависит от переменной, для которой оно рассчитывается. Разрброс суммарной длительности звонков в целом увеличивается в течении рассматриваемого периода. У количества СМС вариабельность также преимущественно увеличивается, но довольно скачкообразно с периодическим небольшим снижением. Наконец, у суммарного объема интрнет-трафика разброс значений примерно одинаковый в течении рассматриваемого периода, однако также наблюдаются скачки на 2, 3, 8 и 12 месяца. "
   ]
  },
  {
   "cell_type": "markdown",
   "id": "b7e6723e",
   "metadata": {},
   "source": [
    "Также рассмотрим распределение для каждой из характеристик клиентов с тарифом «Ультра»."
   ]
  },
  {
   "cell_type": "code",
   "execution_count": 29,
   "id": "c7cc9bff",
   "metadata": {},
   "outputs": [
    {
     "data": {
      "image/png": "[encoded data removed]",
      "text/plain": [
       "<Figure size 1440x1080 with 4 Axes>"
      ]
     },
     "metadata": {
      "needs_background": "light"
     },
     "output_type": "display_data"
    }
   ],
   "source": [
    "full_pivot.query('tariff == \"ultra\"')[features].hist(figsize=(20,15))\n",
    "plt.show()"
   ]
  },
  {
   "cell_type": "markdown",
   "id": "9c5a233a",
   "metadata": {},
   "source": [
    "Как можно заметить, полученные гистограммы несколько разнятся по сравнению с теми, что мы построили для пользователей тарифа \"Смарт\". Однако в целом, если говорить о распределениях, можно сделать примерно те же предпосылки. Длительность звонков стала еще менее похожа на нормальное - для данной характеристики, вероятно, больше подошлобы распределение Пуассона. Количество отправленных СМС, как и до этого, вероятно, описывается Геометрическим распределением. Наконец, относительно объема потреляемого интернет-трафика затруднительно сделать конкретный вывод - подобный график можно с натяжкой отнести как к номральному распределению, так и к распределению Пуассона. "
   ]
  },
  {
   "cell_type": "markdown",
   "id": "7381a394",
   "metadata": {},
   "source": [
    "В данном пункте мы попытались описать типичное поведение абонентов для каждого из предлогаемых оператором тарифов. По итогу мы получили следующие выводы:\n",
    "* Средние значения для продолжиетльности звонков, объема трафика и количества СМС выше у пользователей тарифа \"Ультра\"\n",
    "* Наибольшей вариабельностью в значениях в обеих группах обладает характеристика, отвечающая за число отправленных СМС, а наименьшей - объем интернет-трафика\n",
    " * Характеристика, обладающая распределением, наиболее близким к номральному - объем интернет-трафика. Количество отправленных СМС, веротяно, описывается Геометрическим распределением, а суммарная длительность звонков - распределением Пуассона"
   ]
  },
  {
   "cell_type": "markdown",
   "id": "966bd601",
   "metadata": {},
   "source": [
    "## Проверка гипотез"
   ]
  },
  {
   "cell_type": "markdown",
   "id": "fd67afd7",
   "metadata": {},
   "source": [
    "Перейдем к завершающему пункту нашей работы - проверке основных гипотез по имеющимся данным. Всего на данном этапе будет проработано две основные гипотезы. Рассмотрим каждую из них подробнее. "
   ]
  },
  {
   "cell_type": "markdown",
   "id": "39b1dc3a",
   "metadata": {},
   "source": [
    "### Сравнение средней выручки по двум тарифам"
   ]
  },
  {
   "cell_type": "markdown",
   "id": "b43ed4d3",
   "metadata": {},
   "source": [
    "Начнем с анализа средней выручки по двум имеющимся тарифам. Есть предположение, что данный показатель разнится для пользователей разных тарифных групп. Проверим, так ли это. \n",
    "\n",
    "Для начала сформулируем основные гипотезы, которые нам будет обходимо проверить.\n",
    "\n",
    "Нулевая гипотеза имеет следующий вид: средняя выручка пользователей тарифов «Ультра» и «Смарт» значимо не различается. Т.е. Н0: Е(выручка по пользователям тарифа \"Ультра\") = Е(выручка по пользователям тарифа \"Смарт\").\n",
    "\n",
    "Альтернативная гипотеза, соответственно, будет иметь следующий вид: средняя выручка пользователей тарифов «Ультра» и «Смарт» значимо различается. Т.е. Н1: Е(выручка по пользователям тарифа \"Ультра\") ≠ Е(выручка по пользователям тарифа \"Смарт\"). Мы будем рассматривать именно двухстороннюю альтернативную гипотезу, поскольку для нас не важно, среднее значение какого именно тарифа превышает аналогичный показатель для альтернативного тарифа. \n",
    "\n",
    "Рассмотрим два уровня значимости: 5% и 1%. Для начала сравним полученное значение p-value с 1%. Если нулевая гипотеза не будет отвергаться на столь маленьком уровне, то допустимо не совершать дополнительные проверки - полученный результат будет достаточно релевантен для дюбого уровня значимости. Если же, напротив, для 1% значимости нулевая гипотеза будет отвергнута, имеет смысл рассмотреть немного больший уровень значимости - ведь, все-таки 1% уровень является крайней мерой при проверки гипотез. "
   ]
  },
  {
   "cell_type": "markdown",
   "id": "df031993",
   "metadata": {},
   "source": [
    "Перейдем к непосредственным рассчетам."
   ]
  },
  {
   "cell_type": "code",
   "execution_count": 30,
   "id": "490dca10",
   "metadata": {},
   "outputs": [
    {
     "name": "stdout",
     "output_type": "stream",
     "text": [
      "p-значение: 1.4229814360764067e-160\n",
      "Отвергаем нулевую гипотезу\n"
     ]
    }
   ],
   "source": [
    "alpha = .01\n",
    "\n",
    "results = st.ttest_ind(full_pivot.query('tariff == \"ultra\"')['revenue'], \n",
    "    full_pivot.query('tariff == \"smart\"')['revenue'])\n",
    "\n",
    "print('p-значение:', results.pvalue)\n",
    "\n",
    "if results.pvalue < alpha:\n",
    "    print(\"Отвергаем нулевую гипотезу\")\n",
    "else:\n",
    "    print(\"Не можем отвергнуть нулевую гипотезу\")"
   ]
  },
  {
   "cell_type": "code",
   "execution_count": 31,
   "id": "d3e4d623",
   "metadata": {},
   "outputs": [
    {
     "name": "stdout",
     "output_type": "stream",
     "text": [
      "p-значение: 1.4229814360764067e-160\n",
      "Отвергаем нулевую гипотезу\n"
     ]
    }
   ],
   "source": [
    "alpha = .05\n",
    "\n",
    "results = st.ttest_ind(full_pivot.query('tariff == \"ultra\"')['revenue'], \n",
    "    full_pivot.query('tariff == \"smart\"')['revenue'])\n",
    "\n",
    "print('p-значение:', results.pvalue)\n",
    "\n",
    "if results.pvalue < alpha:\n",
    "    print(\"Отвергаем нулевую гипотезу\")\n",
    "else:\n",
    "    print(\"Не можем отвергнуть нулевую гипотезу\")"
   ]
  },
  {
   "cell_type": "markdown",
   "id": "9fa7e7ed",
   "metadata": {},
   "source": [
    "Итак, согласно полученным результатам, гипотеза о том, что средняя выручка равняется для пользователей обоих тарифов, отвергается на любом разумном уровне значимости. Прежде всего, стоимость тарифов слишком сильно разнится, как и число пользователей каждого тарифа. Наконец, пользователи разных тарифов в разной мере склонны к использованию услуг сверх пакета, что также влияет на итоговую выручку группы. "
   ]
  },
  {
   "cell_type": "markdown",
   "id": "38d07ee1",
   "metadata": {},
   "source": [
    "### Сравнение средней выручки по регионам"
   ]
  },
  {
   "cell_type": "markdown",
   "id": "7547e424",
   "metadata": {},
   "source": [
    "Теперь перейдем к анализу средней выручки по регионам, а именно сравним, различается ли средняя выручка для клиентов из Москвы по сравнению с другими регионами.\n",
    "\n",
    "Как и прежде, начнем с разработки подходящих формулировок для основных гипотезы, которые нам будет обходимо проверить.\n",
    "\n",
    "Нулевая гипотеза имеет следующий вид: средняя выручка пользователей из Москвы и средняя выручка пользователей из других регионов значимо не различается. Т.е. Н0: Е(выручка по жителям Москвы) = Е(выручка по жителям остальных говоров).\n",
    "\n",
    "Альтернативная гипотеза, соответственно, будет иметь следующий вид: средняя выручка пользователей из Москвы и средняя выручка пользователей из других регионов значимо различается. Т.е. Н1: Е(выручка по жителям Москвы) ≠ Е(выручка по жителям остальных говоров). В данном пункте мы также будет рассматривать именно двухстороннюю альтернативную гипотезу, поскольку для нас не важно, среднее значение какого именно региона превышает аналогичный показатель для альренативной группы. \n",
    "\n",
    "Рассмотрим два уровня значимости: 5% и 1%. Для начала сравним полученное значение p-value с 1%. Если нулевая гипотеза не будет отвергаться на столь маленьком уровне, то допустимо не совершать дополнительные проверки - полученный результат будет достаточно релевантен для дюбого уровня значимости. Если же, напротив, для 1% значимости нулевая гипотеза будет отвергнута, имеет смысл рассмотреть немного больший уровень значимости - ведь, все-таки 1% уровень является крайней мерой при проверки гипотез. "
   ]
  },
  {
   "cell_type": "markdown",
   "id": "d96d6925",
   "metadata": {},
   "source": [
    "Перейдем к непосредственным рассчетам."
   ]
  },
  {
   "cell_type": "code",
   "execution_count": 32,
   "id": "7cb6cb4d",
   "metadata": {},
   "outputs": [
    {
     "name": "stdout",
     "output_type": "stream",
     "text": [
      "p-значение: 0.5440152911670224\n",
      "Не получилось отвергнуть нулевую гипотезу\n"
     ]
    }
   ],
   "source": [
    "alpha = .01\n",
    "\n",
    "results = st.ttest_ind(full_pivot.query('city == \"Москва\"')['revenue'], \n",
    "    full_pivot.query('city != \"Москва\"')['revenue'])\n",
    "\n",
    "print('p-значение:', results.pvalue)\n",
    "\n",
    "if results.pvalue < alpha:\n",
    "    print(\"Отвергаем нулевую гипотезу\")\n",
    "else:\n",
    "    print(\"Не получилось отвергнуть нулевую гипотезу\")"
   ]
  },
  {
   "cell_type": "code",
   "execution_count": 33,
   "id": "a689cd9e",
   "metadata": {},
   "outputs": [
    {
     "name": "stdout",
     "output_type": "stream",
     "text": [
      "p-значение: 0.5440152911670224\n",
      "Не получилось отвергнуть нулевую гипотезу\n"
     ]
    }
   ],
   "source": [
    "alpha = .05\n",
    "\n",
    "results = st.ttest_ind(full_pivot.query('city == \"Москва\"')['revenue'], \n",
    "    full_pivot.query('city != \"Москва\"')['revenue'])\n",
    "\n",
    "print('p-значение:', results.pvalue)\n",
    "\n",
    "if results.pvalue < alpha:\n",
    "    print(\"Отвергаем нулевую гипотезу\")\n",
    "else:\n",
    "    print(\"Не получилось отвергнуть нулевую гипотезу\")"
   ]
  },
  {
   "cell_type": "markdown",
   "id": "60f3ba14",
   "metadata": {},
   "source": [
    "Как можно заметить, по итогам двух тестов мы не имеем достаточного основания отвершать основную гипотезу о том, что средняя выручка с абонентов из Москвы равняется аналогичному показателю для жителей других городов. Данный результат также вполне логичен - нет особых причин полагать, что жители Москвы в иной мере пользуются услугами операторов связи. Скорее, более существенное разлияие можно наблюдать в зависимости от профессии или образа жизни. "
   ]
  },
  {
   "cell_type": "markdown",
   "id": "f2df61c5",
   "metadata": {},
   "source": [
    "## Общие выводы"
   ]
  },
  {
   "cell_type": "markdown",
   "id": "47180bd1",
   "metadata": {},
   "source": [
    "Итак, нами был проведен предварительный анализ тарифов с целью дальнейшего персмотра рекламного плана для оператора «Мегалайн». В ходе данной работы нами были совершены несколько важных действий:\n",
    "* Проведена предварительная обработка данных\n",
    "* Проведен общий анализ поведения абонентов\n",
    "* Проверены основные гипотезы об выручке от абонентов\n",
    "\n",
    "По итогу проведенной работы были получены следующие выводы:\n",
    "1. Средние значения для продолжиетльности звонков, объема трафика и количества СМС выше у пользователей тарифа \"Ультра\"\n",
    "2. Наибольшей вариабельностью в значениях в обеих группах обладает характеристика, отвечающая за число отправленных СМС, а наименьшей - объем интернет-трафика\n",
    "3. Характеристика, описывающаяся распределением, наиболее близким к номральному - объем интернет-трафика. Количество отправленных СМС, веротяно, описывается Геометрическим распределением, а суммарная длительность звонков - распределением Пуассона\n",
    "4. Гипотеза о равенстве средней выручки между абонентами двух тарифов была отвергнута\n",
    "5. Напротив, по имеющимя данным нам не удалось опровергнуть гипотезу о том, что средняя выручка с абонентов из Москвы равняется аналогичному показателю для жителей других городов."
   ]
  }
 ],
 "metadata": {
  "ExecuteTimeLog": [
   {
    "duration": 1347,
    "start_time": "2022-05-03T09:30:12.228Z"
   },
   {
    "duration": 604,
    "start_time": "2022-05-03T09:30:13.578Z"
   },
   {
    "duration": 182,
    "start_time": "2022-05-03T09:30:14.185Z"
   },
   {
    "duration": 115,
    "start_time": "2022-05-03T09:30:14.370Z"
   },
   {
    "duration": 2101,
    "start_time": "2022-05-03T09:30:14.487Z"
   },
   {
    "duration": 218,
    "start_time": "2022-05-03T09:30:16.590Z"
   },
   {
    "duration": 24,
    "start_time": "2022-05-03T09:30:16.810Z"
   },
   {
    "duration": 13,
    "start_time": "2022-05-03T09:30:16.836Z"
   },
   {
    "duration": 258,
    "start_time": "2022-05-03T09:30:16.851Z"
   },
   {
    "duration": 172,
    "start_time": "2022-05-03T09:30:17.113Z"
   },
   {
    "duration": 82,
    "start_time": "2022-05-03T09:30:17.287Z"
   },
   {
    "duration": 82,
    "start_time": "2022-05-03T09:30:17.371Z"
   },
   {
    "duration": 76,
    "start_time": "2022-05-03T09:30:17.455Z"
   },
   {
    "duration": 18,
    "start_time": "2022-05-03T09:30:17.534Z"
   },
   {
    "duration": 5,
    "start_time": "2022-05-03T09:30:17.554Z"
   },
   {
    "duration": 12,
    "start_time": "2022-05-03T09:30:17.562Z"
   },
   {
    "duration": 74,
    "start_time": "2022-05-03T09:30:17.577Z"
   },
   {
    "duration": 26,
    "start_time": "2022-05-03T09:30:17.653Z"
   },
   {
    "duration": 7,
    "start_time": "2022-05-03T09:30:17.681Z"
   },
   {
    "duration": 40,
    "start_time": "2022-05-03T09:30:17.691Z"
   },
   {
    "duration": 29,
    "start_time": "2022-05-03T09:30:17.733Z"
   },
   {
    "duration": 22,
    "start_time": "2022-05-03T09:30:17.764Z"
   },
   {
    "duration": 62,
    "start_time": "2022-05-03T09:30:17.788Z"
   },
   {
    "duration": 93,
    "start_time": "2022-05-03T09:30:17.852Z"
   },
   {
    "duration": 841,
    "start_time": "2022-05-03T09:30:17.947Z"
   },
   {
    "duration": 52,
    "start_time": "2022-05-03T09:30:18.790Z"
   },
   {
    "duration": 86,
    "start_time": "2022-05-03T09:30:18.845Z"
   },
   {
    "duration": 823,
    "start_time": "2022-05-03T09:30:18.935Z"
   },
   {
    "duration": 14,
    "start_time": "2022-05-03T09:30:19.760Z"
   },
   {
    "duration": 13,
    "start_time": "2022-05-03T09:30:19.776Z"
   },
   {
    "duration": 43,
    "start_time": "2022-05-03T09:30:19.792Z"
   },
   {
    "duration": 23,
    "start_time": "2022-05-03T09:30:19.837Z"
   },
   {
    "duration": 1366,
    "start_time": "2022-05-03T09:37:26.370Z"
   },
   {
    "duration": 586,
    "start_time": "2022-05-03T09:37:27.739Z"
   },
   {
    "duration": 250,
    "start_time": "2022-05-03T09:37:28.328Z"
   },
   {
    "duration": 187,
    "start_time": "2022-05-03T09:37:28.581Z"
   },
   {
    "duration": 2622,
    "start_time": "2022-05-03T09:37:28.770Z"
   },
   {
    "duration": 218,
    "start_time": "2022-05-03T09:37:31.394Z"
   },
   {
    "duration": 20,
    "start_time": "2022-05-03T09:37:31.614Z"
   },
   {
    "duration": 9,
    "start_time": "2022-05-03T09:37:31.636Z"
   },
   {
    "duration": 354,
    "start_time": "2022-05-03T09:37:31.648Z"
   },
   {
    "duration": 220,
    "start_time": "2022-05-03T09:37:32.007Z"
   },
   {
    "duration": 68,
    "start_time": "2022-05-03T09:37:32.229Z"
   },
   {
    "duration": 87,
    "start_time": "2022-05-03T09:37:32.300Z"
   },
   {
    "duration": 83,
    "start_time": "2022-05-03T09:37:32.390Z"
   },
   {
    "duration": 18,
    "start_time": "2022-05-03T09:37:32.474Z"
   },
   {
    "duration": 5,
    "start_time": "2022-05-03T09:37:32.494Z"
   },
   {
    "duration": 34,
    "start_time": "2022-05-03T09:37:32.525Z"
   },
   {
    "duration": 49,
    "start_time": "2022-05-03T09:37:32.561Z"
   },
   {
    "duration": 24,
    "start_time": "2022-05-03T09:37:32.612Z"
   },
   {
    "duration": 15,
    "start_time": "2022-05-03T09:37:32.639Z"
   },
   {
    "duration": 23,
    "start_time": "2022-05-03T09:37:32.656Z"
   },
   {
    "duration": 20,
    "start_time": "2022-05-03T09:37:32.681Z"
   },
   {
    "duration": 32,
    "start_time": "2022-05-03T09:37:32.704Z"
   },
   {
    "duration": 42,
    "start_time": "2022-05-03T09:37:32.739Z"
   },
   {
    "duration": 89,
    "start_time": "2022-05-03T09:37:32.783Z"
   },
   {
    "duration": 1168,
    "start_time": "2022-05-03T09:37:32.875Z"
   },
   {
    "duration": 54,
    "start_time": "2022-05-03T09:37:34.045Z"
   },
   {
    "duration": 72,
    "start_time": "2022-05-03T09:37:34.124Z"
   },
   {
    "duration": 799,
    "start_time": "2022-05-03T09:37:34.200Z"
   },
   {
    "duration": 24,
    "start_time": "2022-05-03T09:37:35.001Z"
   },
   {
    "duration": 74,
    "start_time": "2022-05-03T09:37:35.028Z"
   },
   {
    "duration": 23,
    "start_time": "2022-05-03T09:37:35.104Z"
   },
   {
    "duration": 22,
    "start_time": "2022-05-03T09:37:35.130Z"
   },
   {
    "duration": 1187,
    "start_time": "2022-05-04T08:13:31.568Z"
   },
   {
    "duration": 511,
    "start_time": "2022-05-04T08:13:37.756Z"
   },
   {
    "duration": 186,
    "start_time": "2022-05-04T08:13:38.586Z"
   },
   {
    "duration": 58,
    "start_time": "2022-05-04T08:13:43.858Z"
   },
   {
    "duration": 126,
    "start_time": "2022-05-04T08:14:23.544Z"
   },
   {
    "duration": 9,
    "start_time": "2022-05-04T08:14:31.315Z"
   },
   {
    "duration": 4,
    "start_time": "2022-05-04T08:14:39.259Z"
   },
   {
    "duration": 84,
    "start_time": "2022-05-04T08:15:05.792Z"
   },
   {
    "duration": 111,
    "start_time": "2022-05-04T08:19:04.671Z"
   },
   {
    "duration": 13,
    "start_time": "2022-05-04T08:19:18.218Z"
   },
   {
    "duration": 108,
    "start_time": "2022-05-04T08:22:11.466Z"
   },
   {
    "duration": 65,
    "start_time": "2022-05-04T08:24:40.964Z"
   },
   {
    "duration": 55,
    "start_time": "2022-05-04T08:24:42.341Z"
   },
   {
    "duration": 45,
    "start_time": "2022-05-04T08:24:43.695Z"
   },
   {
    "duration": 18,
    "start_time": "2022-05-04T08:24:45.141Z"
   },
   {
    "duration": 4,
    "start_time": "2022-05-04T08:24:49.536Z"
   },
   {
    "duration": 6,
    "start_time": "2022-05-04T08:24:54.760Z"
   },
   {
    "duration": 29,
    "start_time": "2022-05-04T08:24:57.262Z"
   },
   {
    "duration": 21,
    "start_time": "2022-05-04T08:24:59.393Z"
   },
   {
    "duration": 9,
    "start_time": "2022-05-04T08:25:19.298Z"
   },
   {
    "duration": 10,
    "start_time": "2022-05-04T08:26:21.655Z"
   },
   {
    "duration": 12,
    "start_time": "2022-05-04T08:26:30.935Z"
   },
   {
    "duration": 14,
    "start_time": "2022-05-04T08:26:36.961Z"
   },
   {
    "duration": 4,
    "start_time": "2022-05-04T08:30:32.829Z"
   },
   {
    "duration": 8,
    "start_time": "2022-05-04T08:30:45.176Z"
   },
   {
    "duration": 15,
    "start_time": "2022-05-04T08:30:46.447Z"
   },
   {
    "duration": 13,
    "start_time": "2022-05-04T08:30:47.717Z"
   },
   {
    "duration": 1080,
    "start_time": "2022-05-04T08:31:22.409Z"
   },
   {
    "duration": 639,
    "start_time": "2022-05-04T08:31:23.491Z"
   },
   {
    "duration": 149,
    "start_time": "2022-05-04T08:31:24.132Z"
   },
   {
    "duration": 74,
    "start_time": "2022-05-04T08:31:24.283Z"
   },
   {
    "duration": 5,
    "start_time": "2022-05-04T08:31:24.359Z"
   },
   {
    "duration": 157,
    "start_time": "2022-05-04T08:31:24.366Z"
   },
   {
    "duration": 11,
    "start_time": "2022-05-04T08:31:24.525Z"
   },
   {
    "duration": 24,
    "start_time": "2022-05-04T08:31:24.537Z"
   },
   {
    "duration": 147,
    "start_time": "2022-05-04T08:31:24.563Z"
   },
   {
    "duration": 121,
    "start_time": "2022-05-04T08:31:24.712Z"
   },
   {
    "duration": 67,
    "start_time": "2022-05-04T08:31:24.835Z"
   },
   {
    "duration": 71,
    "start_time": "2022-05-04T08:31:24.903Z"
   },
   {
    "duration": 62,
    "start_time": "2022-05-04T08:31:24.976Z"
   },
   {
    "duration": 22,
    "start_time": "2022-05-04T08:31:25.040Z"
   },
   {
    "duration": 4,
    "start_time": "2022-05-04T08:31:25.066Z"
   },
   {
    "duration": 11,
    "start_time": "2022-05-04T08:31:25.072Z"
   },
   {
    "duration": 37,
    "start_time": "2022-05-04T08:31:25.085Z"
   },
   {
    "duration": 35,
    "start_time": "2022-05-04T08:31:25.124Z"
   },
   {
    "duration": 8,
    "start_time": "2022-05-04T08:31:25.162Z"
   },
   {
    "duration": 6,
    "start_time": "2022-05-04T08:31:25.172Z"
   },
   {
    "duration": 10,
    "start_time": "2022-05-04T08:31:25.179Z"
   },
   {
    "duration": 11,
    "start_time": "2022-05-04T08:31:25.191Z"
   },
   {
    "duration": 13,
    "start_time": "2022-05-04T08:31:25.203Z"
   },
   {
    "duration": 56,
    "start_time": "2022-05-04T08:31:25.218Z"
   },
   {
    "duration": 40,
    "start_time": "2022-05-04T08:31:25.276Z"
   },
   {
    "duration": 479,
    "start_time": "2022-05-04T08:31:25.317Z"
   },
   {
    "duration": 25,
    "start_time": "2022-05-04T08:31:25.798Z"
   },
   {
    "duration": 70,
    "start_time": "2022-05-04T08:31:25.827Z"
   },
   {
    "duration": 499,
    "start_time": "2022-05-04T08:31:25.899Z"
   },
   {
    "duration": 10,
    "start_time": "2022-05-04T08:31:26.400Z"
   },
   {
    "duration": 12,
    "start_time": "2022-05-04T08:31:26.411Z"
   },
   {
    "duration": 15,
    "start_time": "2022-05-04T08:31:26.447Z"
   },
   {
    "duration": 15,
    "start_time": "2022-05-04T08:31:26.465Z"
   },
   {
    "duration": 6,
    "start_time": "2022-05-04T08:33:36.560Z"
   },
   {
    "duration": 1177,
    "start_time": "2022-05-04T08:34:00.607Z"
   },
   {
    "duration": 618,
    "start_time": "2022-05-04T08:34:01.786Z"
   },
   {
    "duration": 126,
    "start_time": "2022-05-04T08:34:02.406Z"
   },
   {
    "duration": 80,
    "start_time": "2022-05-04T08:34:02.534Z"
   },
   {
    "duration": 5,
    "start_time": "2022-05-04T08:34:02.616Z"
   },
   {
    "duration": 166,
    "start_time": "2022-05-04T08:34:02.623Z"
   },
   {
    "duration": 11,
    "start_time": "2022-05-04T08:34:02.791Z"
   },
   {
    "duration": 7,
    "start_time": "2022-05-04T08:34:02.804Z"
   },
   {
    "duration": 205,
    "start_time": "2022-05-04T08:34:02.813Z"
   },
   {
    "duration": 127,
    "start_time": "2022-05-04T08:34:03.021Z"
   },
   {
    "duration": 67,
    "start_time": "2022-05-04T08:34:03.150Z"
   },
   {
    "duration": 72,
    "start_time": "2022-05-04T08:34:03.219Z"
   },
   {
    "duration": 42,
    "start_time": "2022-05-04T08:34:03.293Z"
   },
   {
    "duration": 21,
    "start_time": "2022-05-04T08:34:03.337Z"
   },
   {
    "duration": 14,
    "start_time": "2022-05-04T08:34:03.360Z"
   },
   {
    "duration": 7,
    "start_time": "2022-05-04T08:34:03.376Z"
   },
   {
    "duration": 7,
    "start_time": "2022-05-04T08:34:03.385Z"
   },
   {
    "duration": 23,
    "start_time": "2022-05-04T08:34:03.393Z"
   },
   {
    "duration": 34,
    "start_time": "2022-05-04T08:34:03.419Z"
   },
   {
    "duration": 7,
    "start_time": "2022-05-04T08:34:03.454Z"
   },
   {
    "duration": 11,
    "start_time": "2022-05-04T08:34:03.463Z"
   },
   {
    "duration": 13,
    "start_time": "2022-05-04T08:34:03.476Z"
   },
   {
    "duration": 14,
    "start_time": "2022-05-04T08:34:03.490Z"
   },
   {
    "duration": 57,
    "start_time": "2022-05-04T08:34:03.506Z"
   },
   {
    "duration": 38,
    "start_time": "2022-05-04T08:34:03.565Z"
   },
   {
    "duration": 478,
    "start_time": "2022-05-04T08:34:03.604Z"
   },
   {
    "duration": 37,
    "start_time": "2022-05-04T08:34:04.084Z"
   },
   {
    "duration": 62,
    "start_time": "2022-05-04T08:34:04.124Z"
   },
   {
    "duration": 446,
    "start_time": "2022-05-04T08:34:04.188Z"
   },
   {
    "duration": 23,
    "start_time": "2022-05-04T08:34:04.636Z"
   },
   {
    "duration": 17,
    "start_time": "2022-05-04T08:34:04.660Z"
   },
   {
    "duration": 10,
    "start_time": "2022-05-04T08:34:04.680Z"
   },
   {
    "duration": 11,
    "start_time": "2022-05-04T08:34:04.692Z"
   },
   {
    "duration": 1167,
    "start_time": "2022-05-04T16:11:13.738Z"
   },
   {
    "duration": 614,
    "start_time": "2022-05-04T16:11:14.907Z"
   },
   {
    "duration": 152,
    "start_time": "2022-05-04T16:11:15.523Z"
   },
   {
    "duration": 67,
    "start_time": "2022-05-04T16:11:15.678Z"
   },
   {
    "duration": 27,
    "start_time": "2022-05-04T16:11:15.747Z"
   },
   {
    "duration": 165,
    "start_time": "2022-05-04T16:11:15.776Z"
   },
   {
    "duration": 11,
    "start_time": "2022-05-04T16:11:15.944Z"
   },
   {
    "duration": 22,
    "start_time": "2022-05-04T16:11:15.957Z"
   },
   {
    "duration": 192,
    "start_time": "2022-05-04T16:11:15.981Z"
   },
   {
    "duration": 130,
    "start_time": "2022-05-04T16:11:16.176Z"
   },
   {
    "duration": 87,
    "start_time": "2022-05-04T16:11:16.308Z"
   },
   {
    "duration": 56,
    "start_time": "2022-05-04T16:11:16.397Z"
   },
   {
    "duration": 72,
    "start_time": "2022-05-04T16:11:16.455Z"
   },
   {
    "duration": 12,
    "start_time": "2022-05-04T16:11:16.529Z"
   },
   {
    "duration": 30,
    "start_time": "2022-05-04T16:11:16.543Z"
   },
   {
    "duration": 6,
    "start_time": "2022-05-04T16:11:16.575Z"
   },
   {
    "duration": 20,
    "start_time": "2022-05-04T16:11:16.583Z"
   },
   {
    "duration": 28,
    "start_time": "2022-05-04T16:11:16.605Z"
   },
   {
    "duration": 8,
    "start_time": "2022-05-04T16:11:16.635Z"
   },
   {
    "duration": 5,
    "start_time": "2022-05-04T16:11:16.644Z"
   },
   {
    "duration": 30,
    "start_time": "2022-05-04T16:11:16.651Z"
   },
   {
    "duration": 14,
    "start_time": "2022-05-04T16:11:16.683Z"
   },
   {
    "duration": 16,
    "start_time": "2022-05-04T16:11:16.699Z"
   },
   {
    "duration": 64,
    "start_time": "2022-05-04T16:11:16.717Z"
   },
   {
    "duration": 43,
    "start_time": "2022-05-04T16:11:16.783Z"
   },
   {
    "duration": 501,
    "start_time": "2022-05-04T16:11:16.829Z"
   },
   {
    "duration": 43,
    "start_time": "2022-05-04T16:11:17.331Z"
   },
   {
    "duration": 43,
    "start_time": "2022-05-04T16:11:17.378Z"
   },
   {
    "duration": 505,
    "start_time": "2022-05-04T16:11:17.423Z"
   },
   {
    "duration": 12,
    "start_time": "2022-05-04T16:11:17.930Z"
   },
   {
    "duration": 30,
    "start_time": "2022-05-04T16:11:17.944Z"
   },
   {
    "duration": 12,
    "start_time": "2022-05-04T16:11:17.975Z"
   },
   {
    "duration": 12,
    "start_time": "2022-05-04T16:11:17.989Z"
   }
  ],
  "kernelspec": {
   "display_name": "Python 3 (ipykernel)",
   "language": "python",
   "name": "python3"
  },
  "language_info": {
   "codemirror_mode": {
    "name": "ipython",
    "version": 3
   },
   "file_extension": ".py",
   "mimetype": "text/x-python",
   "name": "python",
   "nbconvert_exporter": "python",
   "pygments_lexer": "ipython3",
   "version": "3.9.7"
  },
  "toc": {
   "base_numbering": 1,
   "nav_menu": {},
   "number_sections": true,
   "sideBar": true,
   "skip_h1_title": true,
   "title_cell": "Table of Contents",
   "title_sidebar": "Contents",
   "toc_cell": true,
   "toc_position": {},
   "toc_section_display": true,
   "toc_window_display": false
  }
 },
 "nbformat": 4,
 "nbformat_minor": 5
}
